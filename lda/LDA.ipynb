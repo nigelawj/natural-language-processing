{
 "cells": [
  {
   "cell_type": "code",
   "execution_count": 1,
   "metadata": {},
   "outputs": [
    {
     "name": "stderr",
     "output_type": "stream",
     "text": [
      "[nltk_data] Downloading package stopwords to\n",
      "[nltk_data]     C:\\Users\\NigelPC\\AppData\\Roaming\\nltk_data...\n",
      "[nltk_data]   Package stopwords is already up-to-date!\n"
     ]
    },
    {
     "data": {
      "text/plain": [
       "True"
      ]
     },
     "execution_count": 1,
     "metadata": {},
     "output_type": "execute_result"
    }
   ],
   "source": [
    "import nltk\n",
    "nltk.download('stopwords')"
   ]
  },
  {
   "cell_type": "code",
   "execution_count": 2,
   "metadata": {},
   "outputs": [],
   "source": [
    "import re\n",
    "import numpy as np\n",
    "import pandas as pd\n",
    "from pprint import pprint\n",
    "\n",
    "# gensim\n",
    "import gensim\n",
    "import gensim.corpora as corpora\n",
    "from gensim.utils import simple_preprocess\n",
    "from gensim.models import CoherenceModel\n",
    "\n",
    "import spacy\n",
    "\n",
    "import pyLDAvis\n",
    "import pyLDAvis.gensim\n",
    "import matplotlib.pyplot as plt\n",
    "%matplotlib inline\n",
    "\n",
    "import logging\n",
    "logging.basicConfig(format='%(asctime)s: %(levelname)s: %(message)s', level=logging.ERROR)\n",
    "\n",
    "import warnings\n",
    "warnings.filterwarnings(\"ignore\", category=DeprecationWarning)"
   ]
  },
  {
   "cell_type": "markdown",
   "metadata": {},
   "source": [
    "### Prepare Stopwords"
   ]
  },
  {
   "cell_type": "code",
   "execution_count": 3,
   "metadata": {},
   "outputs": [],
   "source": [
    "from nltk.corpus import stopwords\n",
    "stop_words = stopwords.words('english')"
   ]
  },
  {
   "cell_type": "code",
   "execution_count": 4,
   "metadata": {},
   "outputs": [],
   "source": [
    "# Stopwords\n",
    "from nltk.corpus import stopwords\n",
    "stop_words = set(stopwords.words('english'))\n",
    "stop_words.update(['from', 'subject', 're', 'edu', 'use'])"
   ]
  },
  {
   "cell_type": "code",
   "execution_count": 5,
   "metadata": {},
   "outputs": [],
   "source": [
    "# Extend stopwords with WR's .txt files\n",
    "import glob\n",
    "import re\n",
    "\n",
    "files = glob.glob('./stopwords/*.txt')\n",
    "for name in files:\n",
    "    with open(name, 'r') as f:\n",
    "        text = f.read()\n",
    "        words = re.split(r'[;,\\s\\n]\\s*', text)\n",
    "        stop_words.update(words)"
   ]
  },
  {
   "cell_type": "code",
   "execution_count": 6,
   "metadata": {},
   "outputs": [],
   "source": [
    "stop_words = list(stop_words)"
   ]
  },
  {
   "cell_type": "markdown",
   "metadata": {},
   "source": [
    "### Prepare Data"
   ]
  },
  {
   "cell_type": "code",
   "execution_count": 7,
   "metadata": {},
   "outputs": [
    {
     "name": "stdout",
     "output_type": "stream",
     "text": [
      "['rec.autos' 'comp.sys.mac.hardware' 'comp.graphics' 'sci.space'\n",
      " 'talk.politics.guns' 'sci.med' 'comp.sys.ibm.pc.hardware'\n",
      " 'comp.os.ms-windows.misc' 'rec.motorcycles' 'talk.religion.misc'\n",
      " 'misc.forsale' 'alt.atheism' 'sci.electronics' 'comp.windows.x'\n",
      " 'rec.sport.hockey' 'rec.sport.baseball' 'soc.religion.christian'\n",
      " 'talk.politics.mideast' 'talk.politics.misc' 'sci.crypt']\n"
     ]
    },
    {
     "data": {
      "text/html": [
       "<div>\n",
       "<style scoped>\n",
       "    .dataframe tbody tr th:only-of-type {\n",
       "        vertical-align: middle;\n",
       "    }\n",
       "\n",
       "    .dataframe tbody tr th {\n",
       "        vertical-align: top;\n",
       "    }\n",
       "\n",
       "    .dataframe thead th {\n",
       "        text-align: right;\n",
       "    }\n",
       "</style>\n",
       "<table border=\"1\" class=\"dataframe\">\n",
       "  <thead>\n",
       "    <tr style=\"text-align: right;\">\n",
       "      <th></th>\n",
       "      <th>content</th>\n",
       "      <th>target</th>\n",
       "      <th>target_names</th>\n",
       "    </tr>\n",
       "  </thead>\n",
       "  <tbody>\n",
       "    <tr>\n",
       "      <th>0</th>\n",
       "      <td>From: lerxst@wam.umd.edu (where's my thing)\\nS...</td>\n",
       "      <td>7</td>\n",
       "      <td>rec.autos</td>\n",
       "    </tr>\n",
       "    <tr>\n",
       "      <th>1</th>\n",
       "      <td>From: guykuo@carson.u.washington.edu (Guy Kuo)...</td>\n",
       "      <td>4</td>\n",
       "      <td>comp.sys.mac.hardware</td>\n",
       "    </tr>\n",
       "    <tr>\n",
       "      <th>2</th>\n",
       "      <td>From: twillis@ec.ecn.purdue.edu (Thomas E Will...</td>\n",
       "      <td>4</td>\n",
       "      <td>comp.sys.mac.hardware</td>\n",
       "    </tr>\n",
       "    <tr>\n",
       "      <th>3</th>\n",
       "      <td>From: jgreen@amber (Joe Green)\\nSubject: Re: W...</td>\n",
       "      <td>1</td>\n",
       "      <td>comp.graphics</td>\n",
       "    </tr>\n",
       "    <tr>\n",
       "      <th>4</th>\n",
       "      <td>From: jcm@head-cfa.harvard.edu (Jonathan McDow...</td>\n",
       "      <td>14</td>\n",
       "      <td>sci.space</td>\n",
       "    </tr>\n",
       "  </tbody>\n",
       "</table>\n",
       "</div>"
      ],
      "text/plain": [
       "                                             content  target  \\\n",
       "0  From: lerxst@wam.umd.edu (where's my thing)\\nS...       7   \n",
       "1  From: guykuo@carson.u.washington.edu (Guy Kuo)...       4   \n",
       "2  From: twillis@ec.ecn.purdue.edu (Thomas E Will...       4   \n",
       "3  From: jgreen@amber (Joe Green)\\nSubject: Re: W...       1   \n",
       "4  From: jcm@head-cfa.harvard.edu (Jonathan McDow...      14   \n",
       "\n",
       "            target_names  \n",
       "0              rec.autos  \n",
       "1  comp.sys.mac.hardware  \n",
       "2  comp.sys.mac.hardware  \n",
       "3          comp.graphics  \n",
       "4              sci.space  "
      ]
     },
     "execution_count": 7,
     "metadata": {},
     "output_type": "execute_result"
    }
   ],
   "source": [
    "# Import dataset\n",
    "df = pd.read_json('newsgroups.json')\n",
    "print(df.target_names.unique())\n",
    "df.head()"
   ]
  },
  {
   "cell_type": "code",
   "execution_count": 8,
   "metadata": {},
   "outputs": [
    {
     "name": "stdout",
     "output_type": "stream",
     "text": [
      "['From: (wheres my thing) Subject: WHAT car is this!? Nntp-Posting-Host: '\n",
      " 'rac3.wam.umd.edu Organization: University of Maryland, College Park Lines: '\n",
      " '15 I was wondering if anyone out there could enlighten me on this car I saw '\n",
      " 'the other day. It was a 2-door sports car, looked to be from the late 60s/ '\n",
      " 'early 70s. It was called a Bricklin. The doors were really small. In '\n",
      " 'addition, the front bumper was separate from the rest of the body. This is '\n",
      " 'all I know. If anyone can tellme a model name, engine specs, years of '\n",
      " 'production, where this car is made, history, or whatever info you have on '\n",
      " 'this funky looking car, please e-mail. Thanks, - IL ---- brought to you by '\n",
      " 'your neighborhood Lerxst ---- ']\n"
     ]
    }
   ],
   "source": [
    "# Convert to list\n",
    "data = df.content.values.tolist()\n",
    "\n",
    "# Remove Emails\n",
    "data = [re.sub('\\S*@\\S*\\s?', '', sent) for sent in data]\n",
    "\n",
    "# Remove new line characters\n",
    "data = [re.sub('\\s+', ' ', sent) for sent in data]\n",
    "\n",
    "# Remove distracting single quotes\n",
    "data = [re.sub(\"\\'\", \"\", sent) for sent in data]\n",
    "\n",
    "pprint(data[:1])"
   ]
  },
  {
   "cell_type": "markdown",
   "metadata": {},
   "source": [
    "### Tokenize words and clean up text"
   ]
  },
  {
   "cell_type": "code",
   "execution_count": 9,
   "metadata": {},
   "outputs": [
    {
     "name": "stdout",
     "output_type": "stream",
     "text": [
      "[['from', 'wheres', 'my', 'thing', 'subject', 'what', 'car', 'is', 'this', 'nntp', 'posting', 'host', 'rac', 'wam', 'umd', 'edu', 'organization', 'university', 'of', 'maryland', 'college', 'park', 'lines', 'was', 'wondering', 'if', 'anyone', 'out', 'there', 'could', 'enlighten', 'me', 'on', 'this', 'car', 'saw', 'the', 'other', 'day', 'it', 'was', 'door', 'sports', 'car', 'looked', 'to', 'be', 'from', 'the', 'late', 'early', 'it', 'was', 'called', 'bricklin', 'the', 'doors', 'were', 'really', 'small', 'in', 'addition', 'the', 'front', 'bumper', 'was', 'separate', 'from', 'the', 'rest', 'of', 'the', 'body', 'this', 'is', 'all', 'know', 'if', 'anyone', 'can', 'tellme', 'model', 'name', 'engine', 'specs', 'years', 'of', 'production', 'where', 'this', 'car', 'is', 'made', 'history', 'or', 'whatever', 'info', 'you', 'have', 'on', 'this', 'funky', 'looking', 'car', 'please', 'mail', 'thanks', 'il', 'brought', 'to', 'you', 'by', 'your', 'neighborhood', 'lerxst']]\n"
     ]
    }
   ],
   "source": [
    "def sent_to_words(sentences):\n",
    "    for sentence in sentences:\n",
    "        yield(gensim.utils.simple_preprocess(str(sentence), deacc=True))  # deacc=True removes punctuations\n",
    "\n",
    "data_words = list(sent_to_words(data))\n",
    "\n",
    "print(data_words[:1])"
   ]
  },
  {
   "cell_type": "markdown",
   "metadata": {},
   "source": [
    "### Create Bigram and Trigram Models"
   ]
  },
  {
   "cell_type": "code",
   "execution_count": 10,
   "metadata": {},
   "outputs": [
    {
     "name": "stdout",
     "output_type": "stream",
     "text": [
      "['from', 'wheres', 'my', 'thing', 'subject', 'what', 'car', 'is', 'this', 'nntp_posting_host', 'rac_wam_umd_edu', 'organization', 'university', 'of', 'maryland_college_park', 'lines', 'was', 'wondering', 'if', 'anyone', 'out', 'there', 'could', 'enlighten', 'me', 'on', 'this', 'car', 'saw', 'the', 'other', 'day', 'it', 'was', 'door', 'sports', 'car', 'looked', 'to', 'be', 'from', 'the', 'late', 'early', 'it', 'was', 'called', 'bricklin', 'the', 'doors', 'were', 'really', 'small', 'in', 'addition', 'the', 'front_bumper', 'was', 'separate', 'from', 'the', 'rest', 'of', 'the', 'body', 'this', 'is', 'all', 'know', 'if', 'anyone', 'can', 'tellme', 'model', 'name', 'engine', 'specs', 'years', 'of', 'production', 'where', 'this', 'car', 'is', 'made', 'history', 'or', 'whatever', 'info', 'you', 'have', 'on', 'this', 'funky', 'looking', 'car', 'please', 'mail', 'thanks', 'il', 'brought', 'to', 'you', 'by', 'your', 'neighborhood', 'lerxst']\n"
     ]
    }
   ],
   "source": [
    "bigram = gensim.models.Phrases(data_words, min_count=5, threshold=100)\n",
    "trigram = gensim.models.Phrases(bigram[data_words], threshold=100)\n",
    "\n",
    "bigram_mod = gensim.models.phrases.Phraser(bigram)\n",
    "trigram_mod = gensim.models.phrases.Phraser(trigram)\n",
    "\n",
    "print(trigram_mod[bigram_mod[data_words[0]]])"
   ]
  },
  {
   "cell_type": "markdown",
   "metadata": {},
   "source": [
    "### Remove Stopwords, make Bigrams and Lemmatize"
   ]
  },
  {
   "cell_type": "code",
   "execution_count": 11,
   "metadata": {},
   "outputs": [],
   "source": [
    "# Define functions for stopwords, bigrams, trigrams and lemmatization\n",
    "def remove_stopwords(texts):\n",
    "    return [[word for word in simple_preprocess(str(doc)) if word not in stop_words] for doc in texts]\n",
    "\n",
    "def make_bigrams(texts):\n",
    "    return [bigram_mod[doc] for doc in texts]\n",
    "\n",
    "def make_trigrams(texts):\n",
    "    return [trigram_mod[bigram_mod[doc]] for doc in texts]\n",
    "\n",
    "def lemmatization(texts, allowed_postags=['NOUN', 'ADJ', 'VERB', 'ADV']):\n",
    "    \"\"\"https://spacy.io/api/annotation\"\"\"\n",
    "    texts_out = []\n",
    "    for sent in texts:\n",
    "        doc = nlp(\" \".join(sent)) \n",
    "        texts_out.append([token.lemma_ for token in doc if token.pos_ in allowed_postags])\n",
    "    return texts_out"
   ]
  },
  {
   "cell_type": "code",
   "execution_count": 12,
   "metadata": {},
   "outputs": [
    {
     "name": "stdout",
     "output_type": "stream",
     "text": [
      "[['bumper', 'body', 'neighborhood']]\n"
     ]
    }
   ],
   "source": [
    "# Remove Stop Words\n",
    "data_words_nostops = remove_stopwords(data_words)\n",
    "\n",
    "# Form Bigrams\n",
    "data_words_bigrams = make_bigrams(data_words_nostops)\n",
    "\n",
    "# Initialize spacy 'en' model, keeping only tagger component (for efficiency)\n",
    "# python3 -m spacy download en\n",
    "nlp = spacy.load('en_core_web_sm', disable=['parser', 'ner'])\n",
    "\n",
    "# Do lemmatization keeping only noun, adj, vb, adv\n",
    "data_lemmatized = lemmatization(data_words_bigrams, allowed_postags=['NOUN', 'ADJ', 'VERB', 'ADV'])\n",
    "\n",
    "print(data_lemmatized[:1])"
   ]
  },
  {
   "cell_type": "code",
   "execution_count": 13,
   "metadata": {},
   "outputs": [
    {
     "name": "stdout",
     "output_type": "stream",
     "text": [
      "[[(0, 1), (1, 1), (2, 1)]]\n"
     ]
    }
   ],
   "source": [
    "# Create Dictionary\n",
    "id2word = corpora.Dictionary(data_lemmatized)\n",
    "\n",
    "# Create Corpus\n",
    "texts = data_lemmatized\n",
    "\n",
    "# Term Document Frequency\n",
    "corpus = [id2word.doc2bow(text) for text in texts]\n",
    "\n",
    "# View\n",
    "print(corpus[:1])"
   ]
  },
  {
   "cell_type": "markdown",
   "metadata": {},
   "source": [
    "### Build LDA Model"
   ]
  },
  {
   "cell_type": "code",
   "execution_count": 14,
   "metadata": {},
   "outputs": [],
   "source": [
    "# Build LDA model\n",
    "lda_model = gensim.models.ldamodel.LdaModel(corpus=corpus,\n",
    "                                           id2word=id2word,\n",
    "                                           num_topics=20, \n",
    "                                           random_state=100,\n",
    "                                           update_every=1,\n",
    "                                           chunksize=100,\n",
    "                                           passes=10,\n",
    "                                           alpha='auto',\n",
    "                                           per_word_topics=True)"
   ]
  },
  {
   "cell_type": "code",
   "execution_count": 19,
   "metadata": {},
   "outputs": [
    {
     "name": "stdout",
     "output_type": "stream",
     "text": [
      "[(0,\n",
      "  '0.134*\"power\" + 0.133*\"law\" + 0.045*\"crime\" + 0.038*\"right\" + '\n",
      "  '0.035*\"license\" + 0.033*\"criminal\" + 0.030*\"view\" + 0.027*\"hole\" + '\n",
      "  '0.025*\"factor\" + 0.022*\"property\"'),\n",
      " (1,\n",
      "  '0.053*\"function\" + 0.053*\"field\" + 0.043*\"code\" + 0.041*\"author\" + '\n",
      "  '0.033*\"copy\" + 0.028*\"paper\" + 0.026*\"digital\" + 0.025*\"analysis\" + '\n",
      "  '0.025*\"address\" + 0.023*\"sample\"'),\n",
      " (2,\n",
      "  '0.180*\"card\" + 0.139*\"driver\" + 0.057*\"input\" + 0.050*\"appreciate\" + '\n",
      "  '0.040*\"manual\" + 0.035*\"material\" + 0.035*\"mode\" + 0.033*\"printer\" + '\n",
      "  '0.027*\"assumption\" + 0.027*\"output\"'),\n",
      " (3,\n",
      "  '0.209*\"government\" + 0.084*\"israeli\" + 0.070*\"security\" + 0.052*\"citizen\" + '\n",
      "  '0.036*\"rational\" + 0.030*\"pass\" + 0.028*\"arab\" + 0.028*\"disclaimer\" + '\n",
      "  '0.026*\"voice\" + 0.024*\"law_enforcement\"'),\n",
      " (4,\n",
      "  '0.056*\"mail\" + 0.042*\"distribution\" + 0.037*\"computer\" + 0.030*\"datum\" + '\n",
      "  '0.028*\"software\" + 0.027*\"technology\" + 0.025*\"current\" + 0.024*\"machine\" + '\n",
      "  '0.021*\"disk\" + 0.019*\"error\"'),\n",
      " (5,\n",
      "  '0.198*\"system\" + 0.075*\"program\" + 0.047*\"file\" + 0.046*\"window\" + '\n",
      "  '0.039*\"standard\" + 0.038*\"application\" + 0.034*\"encryption\" + '\n",
      "  '0.032*\"solution\" + 0.027*\"memory\" + 0.021*\"period\"'),\n",
      " (6,\n",
      "  '0.105*\"risk\" + 0.042*\"stick\" + 0.039*\"call\" + 0.037*\"agent\" + '\n",
      "  '0.036*\"concerned\" + 0.030*\"sign\" + 0.029*\"violation\" + 0.028*\"birth\" + '\n",
      "  '0.021*\"probability\" + 0.020*\"new\"'),\n",
      " (7,\n",
      "  '0.104*\"engine\" + 0.094*\"large\" + 0.037*\"floppy\" + 0.035*\"essentially\" + '\n",
      "  '0.035*\"own\" + 0.024*\"exception\" + 0.023*\"recommendation\" + 0.021*\"mass\" + '\n",
      "  '0.021*\"path\" + 0.012*\"shaft\"'),\n",
      " (8,\n",
      "  '0.095*\"atheist\" + 0.058*\"bike\" + 0.052*\"logic\" + 0.052*\"ride\" + '\n",
      "  '0.047*\"nature\" + 0.040*\"define\" + 0.036*\"atheism\" + 0.030*\"rider\" + '\n",
      "  '0.028*\"person\" + 0.026*\"impossible\"'),\n",
      " (9,\n",
      "  '0.154*\"player\" + 0.082*\"move\" + 0.044*\"ice\" + 0.037*\"oil\" + '\n",
      "  '0.030*\"canadian\" + 0.029*\"nuclear\" + 0.028*\"cylinder\" + 0.027*\"band\" + '\n",
      "  '0.020*\"combine\" + 0.018*\"suitable\"'),\n",
      " (10,\n",
      "  '0.048*\"evidence\" + 0.032*\"fact\" + 0.032*\"group\" + 0.027*\"exist\" + '\n",
      "  '0.022*\"faith\" + 0.016*\"claim\" + 0.015*\"religion\" + 0.015*\"prove\" + '\n",
      "  '0.015*\"lead\" + 0.014*\"state\"'),\n",
      " (11,\n",
      "  '0.155*\"will\" + 0.079*\"lose\" + 0.068*\"s\" + 0.061*\"be\" + 0.056*\"device\" + '\n",
      "  '0.050*\"drug\" + 0.032*\"proper\" + 0.026*\"poor\" + 0.025*\"foot\" + 0.025*\"seek\"'),\n",
      " (12,\n",
      "  '0.053*\"god\" + 0.050*\"patient\" + 0.042*\"age\" + 0.028*\"amount\" + 0.027*\"put\" '\n",
      "  '+ 0.026*\"performance\" + 0.025*\"condition\" + 0.025*\"longer\" + '\n",
      "  '0.022*\"personal\" + 0.021*\"accept\"'),\n",
      " (13,\n",
      "  '0.067*\"child\" + 0.028*\"soldier\" + 0.027*\"murder\" + 0.026*\"attack\" + '\n",
      "  '0.024*\"village\" + 0.024*\"publish\" + 0.024*\"brain\" + 0.020*\"war\" + '\n",
      "  '0.020*\"armenian\" + 0.018*\"city\"'),\n",
      " (14,\n",
      "  '0.308*\"ax\" + 0.062*\"speed\" + 0.061*\"access\" + 0.055*\"drive\" + '\n",
      "  '0.039*\"format\" + 0.034*\"serial\" + 0.025*\"board\" + 0.022*\"effective\" + '\n",
      "  '0.019*\"mile\" + 0.017*\"keep\"'),\n",
      " (15,\n",
      "  '0.114*\"image\" + 0.099*\"space\" + 0.053*\"earth\" + 0.046*\"concern\" + '\n",
      "  '0.039*\"orbit\" + 0.030*\"satellite\" + 0.030*\"perform\" + 0.028*\"mission\" + '\n",
      "  '0.023*\"observation\" + 0.021*\"planet\"'),\n",
      " (16,\n",
      "  '0.094*\"rate\" + 0.087*\"dealer\" + 0.065*\"equal\" + 0.058*\"reliable\" + '\n",
      "  '0.025*\"young\" + 0.019*\"starter\" + 0.014*\"batter\" + 0.002*\"inferior\" + '\n",
      "  '0.000*\"dealer_profit\" + 0.000*\"compare\"'),\n",
      " (17,\n",
      "  '0.095*\"gun\" + 0.067*\"discussion\" + 0.047*\"fire\" + 0.034*\"weapon\" + '\n",
      "  '0.034*\"arm\" + 0.033*\"firearm\" + 0.032*\"steal\" + 0.031*\"police\" + '\n",
      "  '0.029*\"trial\" + 0.024*\"shoot\"'),\n",
      " (18,\n",
      "  '0.049*\"would\" + 0.048*\"organization\" + 0.046*\"have\" + 0.037*\"team\" + '\n",
      "  '0.024*\"opinion\" + 0.023*\"point\" + 0.022*\"game\" + 0.018*\"rule\" + 0.015*\"let\" '\n",
      "  '+ 0.015*\"situation\"'),\n",
      " (19,\n",
      "  '0.055*\"include\" + 0.052*\"entry\" + 0.045*\"question\" + 0.040*\"network\" + '\n",
      "  '0.040*\"tape\" + 0.034*\"graphic\" + 0.028*\"draw\" + 0.028*\"summary\" + '\n",
      "  '0.027*\"grant\" + 0.026*\"text\"')]\n"
     ]
    }
   ],
   "source": [
    "# Print the top-10 keywords in the 20 topics\n",
    "pprint(lda_model.print_topics())\n",
    "doc_lda = lda_model[corpus]"
   ]
  },
  {
   "cell_type": "code",
   "execution_count": 18,
   "metadata": {},
   "outputs": [
    {
     "name": "stdout",
     "output_type": "stream",
     "text": [
      "\n",
      "Perplexity:  -17.690016959867837\n",
      "\n",
      "Coherence Score:  0.4080619864397727\n"
     ]
    }
   ],
   "source": [
    "# Compute Perplexity\n",
    "print('\\nPerplexity: ', lda_model.log_perplexity(corpus))  # a measure of how good the model is. lower the better.\n",
    "\n",
    "# Compute Coherence Score\n",
    "coherence_model_lda = CoherenceModel(model=lda_model, texts=data_lemmatized, dictionary=id2word, coherence='c_v')\n",
    "coherence_lda = coherence_model_lda.get_coherence()\n",
    "print('\\nCoherence Score: ', coherence_lda)"
   ]
  },
  {
   "cell_type": "code",
   "execution_count": 22,
   "metadata": {},
   "outputs": [],
   "source": [
    "lda_model.save('lda_model')"
   ]
  },
  {
   "cell_type": "markdown",
   "metadata": {},
   "source": [
    "### Visualise Topic Keywords"
   ]
  },
  {
   "cell_type": "code",
   "execution_count": 17,
   "metadata": {},
   "outputs": [
    {
     "name": "stderr",
     "output_type": "stream",
     "text": [
      "C:\\Users\\NigelPC\\Miniconda3\\envs\\nlp-ds\\lib\\site-packages\\pyLDAvis\\_prepare.py:257: FutureWarning: Sorting because non-concatenation axis is not aligned. A future version\n",
      "of pandas will change to not sort by default.\n",
      "\n",
      "To accept the future behavior, pass 'sort=False'.\n",
      "\n",
      "To retain the current behavior and silence the warning, pass 'sort=True'.\n",
      "\n",
      "  return pd.concat([default_term_info] + list(topic_dfs))\n"
     ]
    }
   ],
   "source": [
    "# Visualize the topics\n",
    "pyLDAvis.enable_notebook()\n",
    "vis = pyLDAvis.gensim.prepare(lda_model, corpus, id2word)"
   ]
  },
  {
   "cell_type": "code",
   "execution_count": 18,
   "metadata": {},
   "outputs": [
    {
     "data": {
      "text/html": [
       "\n",
       "<link rel=\"stylesheet\" type=\"text/css\" href=\"https://cdn.rawgit.com/bmabey/pyLDAvis/files/ldavis.v1.0.0.css\">\n",
       "\n",
       "\n",
       "<div id=\"ldavis_el1445223794120693204991821632\"></div>\n",
       "<script type=\"text/javascript\">\n",
       "\n",
       "var ldavis_el1445223794120693204991821632_data = {\"mdsDat\": {\"x\": [-0.309460495494365, -0.27227841479523746, -0.21354881046761892, -0.06734745135108972, -0.10710668216821231, -0.04614851781486651, -0.03601202499839465, 0.03644297667619196, 0.0026676455352609074, 0.04506545725410228, 0.03088341665280387, 0.05764124602473477, 0.06823052767893761, 0.07670588987921313, 0.08530705934200648, 0.07848284610809755, 0.1305229548874585, 0.13293192706479395, 0.14700782493240927, 0.16001262505377375], \"y\": [-0.20450518977245852, 0.36989052420103585, -0.1124062428992634, 0.044301850343251716, -0.1485578243193474, 0.031134942763980933, -0.008450297767805428, 0.003041605137609431, -0.010295941542980526, 0.008796160059173221, 0.018696947186318893, 0.007926874837283774, -0.0015628898325128356, 0.007050949548655612, 0.006074921687612245, -0.012479453597763394, 0.001436716110317251, 0.0012193522062886213, -4.959277513387886e-05, -0.0012634115742604082], \"topics\": [1, 2, 3, 4, 5, 6, 7, 8, 9, 10, 11, 12, 13, 14, 15, 16, 17, 18, 19, 20], \"cluster\": [1, 1, 1, 1, 1, 1, 1, 1, 1, 1, 1, 1, 1, 1, 1, 1, 1, 1, 1, 1], \"Freq\": [18.092201232910156, 17.569236755371094, 11.40342903137207, 6.355700492858887, 6.354413986206055, 5.037770748138428, 4.90751314163208, 4.347092628479004, 3.920696258544922, 3.391817569732666, 3.1947667598724365, 2.971924066543579, 2.308694839477539, 2.1559484004974365, 2.1336891651153564, 2.0258448123931885, 1.306896448135376, 1.167998194694519, 0.9590852856636047, 0.3952813446521759]}, \"tinfo\": {\"Category\": [\"Default\", \"Default\", \"Default\", \"Default\", \"Default\", \"Default\", \"Default\", \"Default\", \"Default\", \"Default\", \"Default\", \"Default\", \"Default\", \"Default\", \"Default\", \"Default\", \"Default\", \"Default\", \"Default\", \"Default\", \"Default\", \"Default\", \"Default\", \"Default\", \"Default\", \"Default\", \"Default\", \"Default\", \"Default\", \"Default\", \"Topic1\", \"Topic1\", \"Topic1\", \"Topic1\", \"Topic1\", \"Topic1\", \"Topic1\", \"Topic1\", \"Topic1\", \"Topic1\", \"Topic1\", \"Topic1\", \"Topic1\", \"Topic1\", \"Topic1\", \"Topic1\", \"Topic1\", \"Topic1\", \"Topic1\", \"Topic1\", \"Topic1\", \"Topic1\", \"Topic1\", \"Topic1\", \"Topic1\", \"Topic1\", \"Topic1\", \"Topic1\", \"Topic1\", \"Topic1\", \"Topic1\", \"Topic1\", \"Topic1\", \"Topic1\", \"Topic1\", \"Topic1\", \"Topic1\", \"Topic2\", \"Topic2\", \"Topic2\", \"Topic2\", \"Topic2\", \"Topic2\", \"Topic2\", \"Topic2\", \"Topic2\", \"Topic2\", \"Topic2\", \"Topic2\", \"Topic2\", \"Topic2\", \"Topic2\", \"Topic2\", \"Topic2\", \"Topic2\", \"Topic2\", \"Topic2\", \"Topic2\", \"Topic2\", \"Topic2\", \"Topic2\", \"Topic2\", \"Topic2\", \"Topic2\", \"Topic2\", \"Topic2\", \"Topic2\", \"Topic2\", \"Topic3\", \"Topic3\", \"Topic3\", \"Topic3\", \"Topic3\", \"Topic3\", \"Topic3\", \"Topic3\", \"Topic3\", \"Topic3\", \"Topic3\", \"Topic3\", \"Topic3\", \"Topic3\", \"Topic3\", \"Topic3\", \"Topic3\", \"Topic3\", \"Topic3\", \"Topic3\", \"Topic3\", \"Topic3\", \"Topic3\", \"Topic3\", \"Topic3\", \"Topic3\", \"Topic3\", \"Topic3\", \"Topic3\", \"Topic3\", \"Topic3\", \"Topic3\", \"Topic3\", \"Topic3\", \"Topic3\", \"Topic4\", \"Topic4\", \"Topic4\", \"Topic4\", \"Topic4\", \"Topic4\", \"Topic4\", \"Topic4\", \"Topic4\", \"Topic4\", \"Topic4\", \"Topic4\", \"Topic4\", \"Topic4\", \"Topic4\", \"Topic4\", \"Topic4\", \"Topic4\", \"Topic4\", \"Topic4\", \"Topic4\", \"Topic4\", \"Topic4\", \"Topic4\", \"Topic4\", \"Topic4\", \"Topic4\", \"Topic4\", \"Topic4\", \"Topic4\", \"Topic5\", \"Topic5\", \"Topic5\", \"Topic5\", \"Topic5\", \"Topic5\", \"Topic5\", \"Topic5\", \"Topic5\", \"Topic5\", \"Topic5\", \"Topic5\", \"Topic5\", \"Topic5\", \"Topic5\", \"Topic5\", \"Topic5\", \"Topic5\", \"Topic5\", \"Topic5\", \"Topic5\", \"Topic5\", \"Topic5\", \"Topic5\", \"Topic5\", \"Topic5\", \"Topic5\", \"Topic5\", \"Topic5\", \"Topic5\", \"Topic5\", \"Topic6\", \"Topic6\", \"Topic6\", \"Topic6\", \"Topic6\", \"Topic6\", \"Topic6\", \"Topic6\", \"Topic6\", \"Topic6\", \"Topic6\", \"Topic6\", \"Topic6\", \"Topic6\", \"Topic6\", \"Topic6\", \"Topic6\", \"Topic6\", \"Topic6\", \"Topic6\", \"Topic6\", \"Topic6\", \"Topic6\", \"Topic6\", \"Topic6\", \"Topic6\", \"Topic6\", \"Topic6\", \"Topic6\", \"Topic6\", \"Topic6\", \"Topic6\", \"Topic6\", \"Topic6\", \"Topic7\", \"Topic7\", \"Topic7\", \"Topic7\", \"Topic7\", \"Topic7\", \"Topic7\", \"Topic7\", \"Topic7\", \"Topic7\", \"Topic7\", \"Topic7\", \"Topic7\", \"Topic7\", \"Topic7\", \"Topic7\", \"Topic7\", \"Topic7\", \"Topic7\", \"Topic7\", \"Topic7\", \"Topic7\", \"Topic7\", \"Topic7\", \"Topic7\", \"Topic7\", \"Topic7\", \"Topic7\", \"Topic7\", \"Topic7\", \"Topic7\", \"Topic7\", \"Topic8\", \"Topic8\", \"Topic8\", \"Topic8\", \"Topic8\", \"Topic8\", \"Topic8\", \"Topic8\", \"Topic8\", \"Topic8\", \"Topic8\", \"Topic8\", \"Topic8\", \"Topic8\", \"Topic8\", \"Topic8\", \"Topic8\", \"Topic8\", \"Topic8\", \"Topic8\", \"Topic8\", \"Topic8\", \"Topic8\", \"Topic8\", \"Topic8\", \"Topic8\", \"Topic8\", \"Topic8\", \"Topic8\", \"Topic8\", \"Topic8\", \"Topic9\", \"Topic9\", \"Topic9\", \"Topic9\", \"Topic9\", \"Topic9\", \"Topic9\", \"Topic9\", \"Topic9\", \"Topic9\", \"Topic9\", \"Topic9\", \"Topic9\", \"Topic9\", \"Topic9\", \"Topic9\", \"Topic9\", \"Topic9\", \"Topic9\", \"Topic9\", \"Topic9\", \"Topic9\", \"Topic9\", \"Topic9\", \"Topic9\", \"Topic9\", \"Topic9\", \"Topic9\", \"Topic9\", \"Topic9\", \"Topic9\", \"Topic10\", \"Topic10\", \"Topic10\", \"Topic10\", \"Topic10\", \"Topic10\", \"Topic10\", \"Topic10\", \"Topic10\", \"Topic10\", \"Topic10\", \"Topic10\", \"Topic10\", \"Topic10\", \"Topic10\", \"Topic10\", \"Topic10\", \"Topic10\", \"Topic10\", \"Topic10\", \"Topic10\", \"Topic10\", \"Topic10\", \"Topic10\", \"Topic10\", \"Topic10\", \"Topic10\", \"Topic10\", \"Topic10\", \"Topic10\", \"Topic10\", \"Topic11\", \"Topic11\", \"Topic11\", \"Topic11\", \"Topic11\", \"Topic11\", \"Topic11\", \"Topic11\", \"Topic11\", \"Topic11\", \"Topic11\", \"Topic11\", \"Topic11\", \"Topic11\", \"Topic11\", \"Topic11\", \"Topic11\", \"Topic11\", \"Topic11\", \"Topic11\", \"Topic11\", \"Topic11\", \"Topic11\", \"Topic11\", \"Topic11\", \"Topic11\", \"Topic11\", \"Topic11\", \"Topic11\", \"Topic11\", \"Topic11\", \"Topic11\", \"Topic11\", \"Topic11\", \"Topic12\", \"Topic12\", \"Topic12\", \"Topic12\", \"Topic12\", \"Topic12\", \"Topic12\", \"Topic12\", \"Topic12\", \"Topic12\", \"Topic12\", \"Topic12\", \"Topic12\", \"Topic12\", \"Topic12\", \"Topic12\", \"Topic12\", \"Topic12\", \"Topic12\", \"Topic12\", \"Topic12\", \"Topic12\", \"Topic12\", \"Topic12\", \"Topic12\", \"Topic12\", \"Topic12\", \"Topic12\", \"Topic12\", \"Topic12\", \"Topic13\", \"Topic13\", \"Topic13\", \"Topic13\", \"Topic13\", \"Topic13\", \"Topic13\", \"Topic13\", \"Topic13\", \"Topic13\", \"Topic13\", \"Topic13\", \"Topic13\", \"Topic13\", \"Topic13\", \"Topic13\", \"Topic13\", \"Topic13\", \"Topic13\", \"Topic13\", \"Topic13\", \"Topic13\", \"Topic13\", \"Topic13\", \"Topic13\", \"Topic13\", \"Topic13\", \"Topic13\", \"Topic13\", \"Topic13\", \"Topic13\", \"Topic14\", \"Topic14\", \"Topic14\", \"Topic14\", \"Topic14\", \"Topic14\", \"Topic14\", \"Topic14\", \"Topic14\", \"Topic14\", \"Topic14\", \"Topic14\", \"Topic14\", \"Topic14\", \"Topic14\", \"Topic14\", \"Topic14\", \"Topic14\", \"Topic14\", \"Topic14\", \"Topic14\", \"Topic14\", \"Topic14\", \"Topic14\", \"Topic14\", \"Topic14\", \"Topic14\", \"Topic14\", \"Topic14\", \"Topic14\", \"Topic14\", \"Topic15\", \"Topic15\", \"Topic15\", \"Topic15\", \"Topic15\", \"Topic15\", \"Topic15\", \"Topic15\", \"Topic15\", \"Topic15\", \"Topic15\", \"Topic15\", \"Topic15\", \"Topic15\", \"Topic15\", \"Topic15\", \"Topic15\", \"Topic15\", \"Topic15\", \"Topic15\", \"Topic15\", \"Topic15\", \"Topic15\", \"Topic15\", \"Topic15\", \"Topic15\", \"Topic15\", \"Topic15\", \"Topic15\", \"Topic15\", \"Topic16\", \"Topic16\", \"Topic16\", \"Topic16\", \"Topic16\", \"Topic16\", \"Topic16\", \"Topic16\", \"Topic16\", \"Topic16\", \"Topic16\", \"Topic16\", \"Topic16\", \"Topic16\", \"Topic16\", \"Topic16\", \"Topic16\", \"Topic16\", \"Topic16\", \"Topic16\", \"Topic16\", \"Topic16\", \"Topic16\", \"Topic16\", \"Topic16\", \"Topic16\", \"Topic16\", \"Topic16\", \"Topic16\", \"Topic16\", \"Topic16\", \"Topic16\", \"Topic17\", \"Topic17\", \"Topic17\", \"Topic17\", \"Topic17\", \"Topic17\", \"Topic17\", \"Topic17\", \"Topic17\", \"Topic17\", \"Topic17\", \"Topic17\", \"Topic17\", \"Topic17\", \"Topic17\", \"Topic17\", \"Topic17\", \"Topic17\", \"Topic17\", \"Topic17\", \"Topic17\", \"Topic17\", \"Topic17\", \"Topic17\", \"Topic17\", \"Topic17\", \"Topic17\", \"Topic17\", \"Topic17\", \"Topic17\", \"Topic18\", \"Topic18\", \"Topic18\", \"Topic18\", \"Topic18\", \"Topic18\", \"Topic18\", \"Topic18\", \"Topic18\", \"Topic18\", \"Topic18\", \"Topic18\", \"Topic18\", \"Topic18\", \"Topic18\", \"Topic18\", \"Topic18\", \"Topic18\", \"Topic18\", \"Topic18\", \"Topic18\", \"Topic18\", \"Topic18\", \"Topic18\", \"Topic18\", \"Topic18\", \"Topic18\", \"Topic18\", \"Topic18\", \"Topic18\", \"Topic19\", \"Topic19\", \"Topic19\", \"Topic19\", \"Topic19\", \"Topic19\", \"Topic19\", \"Topic19\", \"Topic19\", \"Topic19\", \"Topic19\", \"Topic19\", \"Topic19\", \"Topic19\", \"Topic19\", \"Topic19\", \"Topic19\", \"Topic19\", \"Topic19\", \"Topic19\", \"Topic19\", \"Topic19\", \"Topic19\", \"Topic19\", \"Topic19\", \"Topic19\", \"Topic19\", \"Topic19\", \"Topic19\", \"Topic19\", \"Topic19\", \"Topic19\", \"Topic20\", \"Topic20\", \"Topic20\", \"Topic20\", \"Topic20\", \"Topic20\", \"Topic20\", \"Topic20\", \"Topic20\", \"Topic20\", \"Topic20\", \"Topic20\", \"Topic20\", \"Topic20\", \"Topic20\", \"Topic20\", \"Topic20\", \"Topic20\", \"Topic20\", \"Topic20\", \"Topic20\", \"Topic20\", \"Topic20\", \"Topic20\", \"Topic20\", \"Topic20\", \"Topic20\", \"Topic20\", \"Topic20\", \"Topic20\", \"Topic20\", \"Topic20\", \"Topic20\", \"Topic20\", \"Topic20\", \"Topic20\", \"Topic20\", \"Topic20\", \"Topic20\"], \"Freq\": [6401.0, 6030.0, 2267.0, 2202.0, 1855.0, 2046.0, 2033.0, 4054.0, 4120.0, 4120.0, 3894.0, 3031.0, 2267.0, 1792.0, 2041.0, 1432.0, 3111.0, 1264.0, 2728.0, 2394.0, 3014.0, 2000.0, 967.0, 1100.0, 1263.0, 1291.0, 1123.0, 1261.0, 1426.0, 2307.0, 4118.84033203125, 2727.36767578125, 2306.36474609375, 1935.1527099609375, 1396.8206787109375, 1324.7686767578125, 1323.321044921875, 1281.4971923828125, 1168.5997314453125, 1049.7757568359375, 1043.2996826171875, 1031.291748046875, 990.3949584960938, 946.8141479492188, 901.762451171875, 898.0604858398438, 855.4761352539062, 776.9304809570312, 773.0374755859375, 768.7802124023438, 746.8356323242188, 743.2902221679688, 711.5460205078125, 678.0556030273438, 675.4199829101562, 669.390625, 654.2142333984375, 641.4396362304688, 638.5645141601562, 607.5932006835938, 949.7500610351562, 1170.826171875, 2796.526611328125, 1005.5220947265625, 935.39599609375, 869.0552978515625, 700.3906860351562, 4053.305908203125, 3893.119384765625, 3109.585205078125, 2034.9046630859375, 1946.8892822265625, 1817.2685546875, 1516.0892333984375, 1256.2271728515625, 1254.3870849609375, 1177.8204345703125, 1149.5499267578125, 1068.5853271484375, 1041.204833984375, 1001.4408569335938, 974.4022827148438, 964.8544311523438, 953.4091186523438, 940.4228515625, 934.9226684570312, 919.0181884765625, 846.5924682617188, 841.1657104492188, 836.2798461914062, 4112.189453125, 792.065673828125, 776.8622436523438, 764.7113647460938, 749.224853515625, 744.7069702148438, 703.2708740234375, 995.928955078125, 3030.25, 1998.4754638671875, 1627.2657470703125, 1546.7857666015625, 1463.9630126953125, 1344.423583984375, 1309.2698974609375, 1122.3980712890625, 1057.0811767578125, 994.2356567382812, 857.5419311523438, 765.56640625, 750.6007080078125, 742.5599975585938, 728.3577880859375, 715.8863525390625, 669.8251342773438, 591.614990234375, 568.6445922851562, 555.3103637695312, 521.5089111328125, 502.7491455078125, 492.77606201171875, 480.35614013671875, 461.8680419921875, 460.24310302734375, 442.04071044921875, 436.84613037109375, 429.1394958496094, 415.2044677734375, 2272.965087890625, 821.6323852539062, 478.857666015625, 639.4758911132812, 494.04864501953125, 6028.70751953125, 2265.716552734375, 1425.011474609375, 1408.3641357421875, 1188.5487060546875, 1167.527099609375, 1030.7305908203125, 964.9393310546875, 808.870361328125, 638.1232299804688, 634.677001953125, 582.8010864257812, 564.8973388671875, 538.9722900390625, 538.4949340820312, 483.48773193359375, 479.9523620605469, 440.77392578125, 394.9439392089844, 380.17242431640625, 332.0598449707031, 321.95013427734375, 308.0323486328125, 302.69073486328125, 267.776611328125, 264.853271484375, 253.1136474609375, 232.93020629882812, 225.5023193359375, 193.76487731933594, 2039.949951171875, 866.0066528320312, 812.5086669921875, 775.9909057617188, 739.1231689453125, 730.86083984375, 722.7372436523438, 619.1907958984375, 562.0081176757812, 508.26519775390625, 466.2129821777344, 462.8820495605469, 462.2501220703125, 439.0679931640625, 410.1636962890625, 392.04803466796875, 388.5698547363281, 621.207275390625, 382.53094482421875, 352.9294128417969, 343.20538330078125, 332.7984313964844, 324.0451354980469, 320.0323486328125, 296.6716003417969, 292.3755187988281, 252.55227661132812, 249.48863220214844, 249.4090118408203, 223.06570434570312, 241.58323669433594, 1268.7335205078125, 1214.0272216796875, 1018.5624389648438, 681.67138671875, 662.668701171875, 616.755615234375, 613.1005859375, 598.4487915039062, 512.3463745117188, 509.3452453613281, 471.3721923828125, 434.58319091796875, 414.7781677246094, 401.8669128417969, 400.6833801269531, 366.2532653808594, 363.2530822753906, 334.38018798828125, 307.7080993652344, 282.589599609375, 275.9210205078125, 275.66461181640625, 274.5795593261719, 259.90325927734375, 259.36395263671875, 256.89337158203125, 233.3751220703125, 228.28782653808594, 203.58897399902344, 203.3157501220703, 502.00604248046875, 397.4131164550781, 535.22216796875, 244.28701782226562, 1287.80419921875, 1216.6676025390625, 940.5066528320312, 937.43310546875, 801.2698364257812, 662.0037841796875, 646.7932739257812, 612.5573120117188, 577.3314208984375, 541.8696899414062, 445.923095703125, 428.85931396484375, 400.8150329589844, 374.1747741699219, 355.7264404296875, 342.5530090332031, 334.9441833496094, 322.4617919921875, 308.9759521484375, 241.30897521972656, 241.1515655517578, 236.91053771972656, 235.69090270996094, 211.30116271972656, 207.89710998535156, 203.0535888671875, 199.9458465576172, 199.2698211669922, 196.38418579101562, 192.3920135498047, 639.3198852539062, 1065.8831787109375, 6399.85205078125, 1289.832763671875, 1259.618408203125, 804.5794677734375, 700.2009887695312, 526.9085083007812, 462.2081298828125, 393.0575866699219, 343.8521423339844, 311.8567199707031, 275.5538330078125, 254.9785614013672, 250.05712890625, 213.20703125, 178.6997528076172, 167.11044311523438, 164.02554321289062, 153.2537078857422, 151.85743713378906, 146.4117431640625, 138.7153778076172, 129.90005493164062, 126.31126403808594, 120.7769546508789, 113.47048950195312, 110.94253540039062, 104.91443634033203, 104.31375885009766, 92.73668670654297, 87.15870666503906, 1151.8138427734375, 1790.97412109375, 1261.944580078125, 888.7109375, 638.9028930664062, 637.3277587890625, 620.3985595703125, 579.36865234375, 601.8646240234375, 546.6861572265625, 456.4819030761719, 410.7294006347656, 363.2286376953125, 347.6282958984375, 333.3147888183594, 281.2966003417969, 265.3339538574219, 254.30809020996094, 253.56858825683594, 248.7425994873047, 243.9402618408203, 232.71705627441406, 211.9847412109375, 209.51913452148438, 203.82701110839844, 196.53079223632812, 196.2404327392578, 190.719970703125, 185.28041076660156, 182.06358337402344, 178.0397186279297, 251.05767822265625, 868.1130981445312, 852.4415283203125, 697.3845825195312, 672.84228515625, 531.9505615234375, 456.5622253417969, 414.6935729980469, 401.977294921875, 399.27789306640625, 369.069091796875, 343.11163330078125, 338.0094299316406, 335.87628173828125, 335.6338195800781, 309.3839111328125, 295.7601013183594, 284.1218566894531, 270.7961120605469, 249.58644104003906, 241.3104248046875, 238.45750427246094, 217.79881286621094, 217.505615234375, 216.93084716796875, 216.0177459716797, 213.06268310546875, 208.19505310058594, 193.2648468017578, 184.6364288330078, 166.887451171875, 282.6015930175781, 2045.2601318359375, 2031.9896240234375, 689.510498046875, 578.7354125976562, 538.7177124023438, 507.6646728515625, 464.43133544921875, 414.5643310546875, 340.11505126953125, 336.108154296875, 310.3007507324219, 302.71673583984375, 277.57525634765625, 270.3907470703125, 262.6202087402344, 227.50938415527344, 195.47927856445312, 176.3219451904297, 162.12081909179688, 140.99183654785156, 133.78390502929688, 128.33059692382812, 128.0202178955078, 108.42808532714844, 97.89718627929688, 96.71219635009766, 96.11947631835938, 73.870849609375, 58.079490661621094, 55.74885940551758, 380.99505615234375, 241.9502716064453, 106.265625, 102.73190307617188, 2200.98291015625, 1121.8658447265625, 973.8132934570312, 864.8338012695312, 791.5760498046875, 713.9161987304688, 460.540771484375, 361.41705322265625, 359.2010803222656, 357.31787109375, 348.8644714355469, 269.306396484375, 266.6368103027344, 258.14703369140625, 241.64651489257812, 209.72813415527344, 203.49142456054688, 140.00628662109375, 117.87481689453125, 96.77350616455078, 83.50463104248047, 83.11292266845703, 78.23806762695312, 68.64212036132812, 68.61521911621094, 61.77104187011719, 54.29864501953125, 38.005741119384766, 368.3056945800781, 29.74074363708496, 1262.5992431640625, 1098.509033203125, 581.7427978515625, 507.58447265625, 432.9193420410156, 330.8578796386719, 328.98284912109375, 309.65728759765625, 251.40919494628906, 232.82595825195312, 226.4006805419922, 213.2804412841797, 190.90333557128906, 174.98179626464844, 174.33250427246094, 168.86141967773438, 163.56085205078125, 155.3770294189453, 146.13844299316406, 135.0333709716797, 123.01458740234375, 97.81687927246094, 85.11546325683594, 83.242431640625, 79.81581115722656, 66.59992980957031, 66.56634521484375, 61.78142166137695, 53.709617614746094, 52.93572235107422, 82.85755157470703, 1854.226318359375, 1430.886962890625, 583.525634765625, 515.4426879882812, 413.4178771972656, 366.0303955078125, 361.8518981933594, 344.7328186035156, 275.16119384765625, 274.865966796875, 248.0617218017578, 211.66012573242188, 180.1200408935547, 144.49267578125, 120.26034545898438, 113.24700927734375, 98.34285736083984, 86.92802429199219, 83.59806060791016, 75.59978485107422, 53.63557434082031, 48.433876037597656, 40.243804931640625, 12.449043273925781, 10.960267066955566, 5.216196537017822, 0.07135545462369919, 0.07134360074996948, 0.0713421180844307, 0.07135865092277527, 0.07134535163640976, 973.7353515625, 587.5897827148438, 530.564208984375, 527.3435668945312, 475.8971252441406, 406.8544921875, 370.69842529296875, 305.8450927734375, 283.3525085449219, 265.4181823730469, 242.06651306152344, 226.9856414794922, 213.76251220703125, 184.05885314941406, 175.6816864013672, 175.66915893554688, 175.19847106933594, 139.4551239013672, 135.85169982910156, 117.28154754638672, 114.7808609008789, 97.14276885986328, 91.96748352050781, 78.29473876953125, 65.53363800048828, 64.49693298339844, 63.814910888671875, 57.31645202636719, 51.861785888671875, 51.330360412597656, 816.2716064453125, 678.2678833007812, 505.1853332519531, 347.8910827636719, 293.4341735839844, 275.1700439453125, 269.92584228515625, 248.26739501953125, 233.0568389892578, 174.3585968017578, 172.5188751220703, 172.04888916015625, 111.9570541381836, 111.57611083984375, 101.30280303955078, 83.89238739013672, 73.28014373779297, 73.13723754882812, 40.13988494873047, 39.9278450012207, 38.080570220947266, 29.268144607543945, 26.32362174987793, 19.860836029052734, 19.438892364501953, 18.875883102416992, 18.004547119140625, 2030.596435546875, 6.5515971183776855, 84.6446533203125, 64.95535278320312, 53.543724060058594, 965.9988403320312, 510.8473815917969, 272.2123107910156, 229.1814727783203, 186.22442626953125, 182.0748291015625, 174.07949829101562, 166.82672119140625, 122.25537872314453, 113.54659271240234, 106.2684555053711, 100.46000671386719, 97.3964614868164, 78.09455108642578, 68.98145294189453, 65.12556457519531, 61.140235900878906, 55.16145706176758, 46.713157653808594, 45.25849914550781, 43.565818786621094, 38.31684494018555, 28.340576171875, 25.949378967285156, 25.774803161621094, 24.727893829345703, 22.52053451538086, 21.60565757751465, 20.206838607788086, 19.74639892578125, 587.5451049804688, 232.69613647460938, 218.4954376220703, 206.3841094970703, 198.5056915283203, 165.09022521972656, 162.48936462402344, 159.0760955810547, 116.30718231201172, 112.5228042602539, 107.29039001464844, 106.36653900146484, 97.52606201171875, 95.6126480102539, 93.91238403320312, 92.19778442382812, 87.70614624023438, 72.91132354736328, 70.00089263916016, 65.77958679199219, 62.6718864440918, 61.87294006347656, 55.12321090698242, 40.462589263916016, 37.01166915893555, 35.022560119628906, 31.170692443847656, 22.339136123657227, 19.38456916809082, 16.37104034423828, 478.2125244140625, 429.61273193359375, 167.89332580566406, 160.5583038330078, 159.52989196777344, 111.72351837158203, 107.6766586303711, 96.63556671142578, 95.0492172241211, 56.49346160888672, 55.764102935791016, 53.317264556884766, 52.32097625732422, 46.68048095703125, 46.5531005859375, 38.078346252441406, 35.99197769165039, 33.2403678894043, 32.66973114013672, 31.408937454223633, 25.74504280090332, 20.171356201171875, 15.838482856750488, 12.313940048217773, 11.594056129455566, 11.109671592712402, 10.85743522644043, 9.411341667175293, 0.06592736393213272, 0.06590772420167923, 0.06590871512889862, 0.06590881198644638, 178.45736694335938, 163.8516845703125, 122.83012390136719, 110.255615234375, 46.4734992980957, 36.38274002075195, 26.1370849609375, 4.2117390632629395, 0.03630220144987106, 0.03629862889647484, 0.036298613995313644, 0.03629766404628754, 0.03629719093441963, 0.036296721547842026, 0.03630060330033302, 0.03629458323121071, 0.03629913553595543, 0.036296289414167404, 0.03629480302333832, 0.03629477694630623, 0.03629399463534355, 0.03629722818732262, 0.03629530593752861, 0.03629530593752861, 0.036294929683208466, 0.03629399091005325, 0.036294836550951004, 0.036294836550951004, 0.03629530593752861, 0.03629519045352936, 0.036296069622039795, 0.03629487380385399, 0.0362955778837204, 0.03629593178629875, 0.0362972654402256, 0.03629628196358681, 0.03629592806100845, 0.03629552200436592, 0.03629513084888458], \"Term\": [\"ax\", \"system\", \"government\", \"will\", \"card\", \"power\", \"law\", \"organization\", \"would\", \"evidence\", \"have\", \"mail\", \"program\", \"gun\", \"child\", \"driver\", \"team\", \"image\", \"group\", \"distribution\", \"fact\", \"computer\", \"player\", \"space\", \"discussion\", \"speed\", \"lose\", \"access\", \"file\", \"exist\", \"evidence\", \"group\", \"exist\", \"faith\", \"claim\", \"religion\", \"prove\", \"lead\", \"science\", \"truth\", \"effect\", \"response\", \"member\", \"belief\", \"conclusion\", \"statement\", \"religious\", \"mean\", \"figure\", \"interest\", \"appear\", \"jewish\", \"reason\", \"read\", \"military\", \"reduce\", \"church\", \"wing\", \"speak\", \"christian\", \"body\", \"state\", \"fact\", \"purpose\", \"post\", \"history\", \"part\", \"organization\", \"have\", \"team\", \"opinion\", \"point\", \"game\", \"rule\", \"let\", \"situation\", \"matter\", \"difference\", \"case\", \"talk\", \"argument\", \"action\", \"number\", \"ill\", \"nntp_posting\", \"explain\", \"consider\", \"hold\", \"increase\", \"reality\", \"would\", \"division\", \"believe\", \"term\", \"goal\", \"method\", \"delete\", \"make\", \"mail\", \"computer\", \"datum\", \"software\", \"technology\", \"current\", \"machine\", \"disk\", \"error\", \"instal\", \"package\", \"character\", \"option\", \"design\", \"server\", \"normal\", \"limit\", \"offer\", \"volume\", \"hardware\", \"external\", \"operation\", \"port\", \"tool\", \"radio\", \"table\", \"mount\", \"environment\", \"release\", \"industry\", \"distribution\", \"process\", \"vehicle\", \"research\", \"develop\", \"system\", \"program\", \"file\", \"window\", \"standard\", \"application\", \"encryption\", \"solution\", \"memory\", \"period\", \"transfer\", \"pc\", \"feature\", \"obtain\", \"mouse\", \"agency\", \"manager\", \"compute\", \"procedure\", \"ensure\", \"proposal\", \"tap\", \"motto\", \"motif\", \"capacity\", \"default\", \"privacy\", \"german\", \"utility\", \"disable\", \"child\", \"soldier\", \"murder\", \"attack\", \"village\", \"publish\", \"brain\", \"armenian\", \"city\", \"turkish\", \"terrorism\", \"destroy\", \"occupy\", \"proof\", \"population\", \"house\", \"turk\", \"war\", \"blood\", \"northern\", \"town\", \"letter\", \"civilian\", \"convert\", \"burn\", \"suffer\", \"inhabitant\", \"attention\", \"inform\", \"troop\", \"building\", \"god\", \"patient\", \"age\", \"amount\", \"put\", \"performance\", \"condition\", \"longer\", \"accept\", \"reasonable\", \"suggest\", \"doctor\", \"advice\", \"disease\", \"generate\", \"insurance\", \"extra\", \"treatment\", \"status\", \"start\", \"keyword\", \"drop\", \"medical\", \"cd\", \"magazine\", \"accident\", \"cap\", \"decent\", \"usual\", \"advantage\", \"range\", \"responsible\", \"personal\", \"bother\", \"include\", \"entry\", \"network\", \"tape\", \"graphic\", \"draw\", \"summary\", \"text\", \"answer\", \"reference\", \"session\", \"secret\", \"scripture\", \"electronic\", \"fit\", \"sport\", \"name\", \"maintain\", \"telnet\", \"brother\", \"store\", \"load\", \"configuration\", \"explanation\", \"approach\", \"interface\", \"implementation\", \"workstation\", \"sufficient\", \"blow\", \"grant\", \"question\", \"ax\", \"speed\", \"access\", \"format\", \"serial\", \"board\", \"effective\", \"mile\", \"keep\", \"topic\", \"check\", \"summer\", \"send\", \"trace\", \"bar\", \"stream\", \"campaign\", \"modem\", \"motor\", \"segment\", \"tire\", \"construction\", \"honor\", \"ring\", \"maintenance\", \"variation\", \"allocate\", \"dirt\", \"pick\", \"openwindow\", \"drive\", \"gun\", \"discussion\", \"fire\", \"weapon\", \"arm\", \"firearm\", \"police\", \"steal\", \"trial\", \"shoot\", \"owner\", \"gas\", \"fan\", \"cop\", \"wife\", \"set\", \"pull\", \"tank\", \"block\", \"floor\", \"damage\", \"depend\", \"factory\", \"human_being\", \"buy\", \"daughter\", \"ammunition\", \"wear\", \"category\", \"second\", \"carry\", \"function\", \"field\", \"code\", \"author\", \"copy\", \"paper\", \"digital\", \"analysis\", \"address\", \"sample\", \"degree\", \"archive\", \"technical\", \"engineer\", \"gain\", \"laboratory\", \"piece\", \"employer\", \"compile\", \"unknown\", \"pointer\", \"publication\", \"energy\", \"expire\", \"conference\", \"hide\", \"object\", \"extend\", \"battery\", \"wave\", \"sit\", \"power\", \"law\", \"crime\", \"right\", \"license\", \"criminal\", \"view\", \"hole\", \"property\", \"protection\", \"blank\", \"united_state\", \"charge\", \"death\", \"statistic\", \"consideration\", \"restriction\", \"toll\", \"percentage\", \"fre\", \"neighbor\", \"handgun\", \"speaker\", \"ton\", \"present\", \"tavare\", \"wall\", \"nuclear_weapon\", \"rutger\", \"investors_packet\", \"factor\", \"impact\", \"officer\", \"individual\", \"will\", \"lose\", \"s\", \"be\", \"device\", \"drug\", \"proper\", \"foot\", \"seek\", \"communication\", \"dangerous\", \"signal\", \"helmet\", \"show\", \"expansion\", \"devil\", \"fault\", \"variety\", \"specification\", \"emphasis\", \"competition\", \"creature\", \"retire\", \"compress\", \"timing\", \"creator\", \"glass\", \"suspect\", \"poor\", \"convex\", \"image\", \"space\", \"earth\", \"concern\", \"orbit\", \"satellite\", \"perform\", \"mission\", \"observation\", \"planet\", \"facility\", \"saturn\", \"icon\", \"radiation\", \"spacecraft\", \"lunar\", \"warrant\", \"component\", \"ozone\", \"solar\", \"planetary\", \"moon\", \"sky\", \"camera\", \"gravity\", \"formation\", \"pure\", \"space_shuttle\", \"substantial\", \"wallpaper\", \"impact\", \"card\", \"driver\", \"input\", \"appreciate\", \"manual\", \"material\", \"mode\", \"printer\", \"assumption\", \"output\", \"circuit\", \"luck\", \"voltage\", \"switch\", \"result\", \"controller\", \"preferably\", \"accuracy\", \"sight\", \"driving\", \"delay\", \"classic\", \"acceleration\", \"passive\", \"amplify\", \"abs\", \"busmastere\", \"decimal\", \"slow\", \"wire\", \"run\", \"atheist\", \"bike\", \"logic\", \"ride\", \"nature\", \"define\", \"atheism\", \"rider\", \"person\", \"impossible\", \"dog\", \"success\", \"blue\", \"bottom\", \"mind\", \"electrical\", \"walk\", \"limited\", \"netter\", \"european\", \"consist\", \"encounter\", \"import\", \"thread\", \"comprise\", \"television\", \"hand\", \"infinite\", \"soviet_union\", \"domestic\", \"israeli\", \"security\", \"citizen\", \"rational\", \"pass\", \"arab\", \"disclaimer\", \"voice\", \"law_enforcement\", \"plain\", \"lawyer\", \"export\", \"investment\", \"crypto\", \"cage\", \"engage\", \"industrial\", \"parking\", \"designer\", \"cabin\", \"isreal\", \"stratus_computer\", \"chris_behanna\", \"expel\", \"wild_corn\", \"destination\", \"scum\", \"government\", \"concert\", \"territory\", \"peace\", \"prevent\", \"player\", \"move\", \"ice\", \"oil\", \"canadian\", \"nuclear\", \"cylinder\", \"band\", \"combine\", \"suitable\", \"portable\", \"prefer\", \"nonsense\", \"accomplish\", \"leak\", \"surround\", \"electric\", \"leather\", \"river\", \"reward\", \"appoint\", \"reactor\", \"netnew\", \"combined\", \"bell_lab\", \"lastly\", \"accessory\", \"cooling_tower\", \"heck\", \"steam\", \"risk\", \"stick\", \"call\", \"agent\", \"concerned\", \"sign\", \"violation\", \"birth\", \"probability\", \"new\", \"receiver\", \"correction\", \"prize\", \"conservative\", \"secular\", \"flyer\", \"comprehensive\", \"discount\", \"sheet\", \"imagination\", \"defensive\", \"mystery\", \"luxury\", \"safe\", \"milk\", \"nearby\", \"liability\", \"inquiry\", \"rip\", \"impulse\", \"engine\", \"large\", \"floppy\", \"essentially\", \"own\", \"exception\", \"recommendation\", \"mass\", \"path\", \"shaft\", \"nose\", \"separation\", \"rear\", \"valve\", \"farmer\", \"joint\", \"provision\", \"intersection\", \"close\", \"angle\", \"style\", \"grief\", \"torque\", \"bridge\", \"turbo\", \"liter\", \"ms_do\", \"slide\", \"wire\", \"brake\", \"mirror\", \"lebanese\", \"rate\", \"dealer\", \"equal\", \"reliable\", \"young\", \"starter\", \"batter\", \"inferior\", \"dealer_profit\", \"restraint\", \"egg\", \"gonorrhea\", \"surveillance\", \"embryo\", \"compare\", \"competitor\", \"adult\", \"black\", \"violent_crime\", \"save\", \"caprice\", \"newsletter\", \"infertility\", \"sperm\", \"white\", \"aftermarket\", \"ivf\", \"influenza\", \"occupant\", \"clean\", \"model\", \"prevalence\", \"tube\", \"art\", \"lebanese\", \"consistent\", \"terrorist\", \"chance\", \"shipping\"], \"Total\": [6401.0, 6030.0, 2267.0, 2202.0, 1855.0, 2046.0, 2033.0, 4054.0, 4120.0, 4120.0, 3894.0, 3031.0, 2267.0, 1792.0, 2041.0, 1432.0, 3111.0, 1264.0, 2728.0, 2394.0, 3014.0, 2000.0, 967.0, 1100.0, 1263.0, 1291.0, 1123.0, 1261.0, 1426.0, 2307.0, 4120.39111328125, 2728.917724609375, 2307.914794921875, 1936.7027587890625, 1398.3707275390625, 1326.3187255859375, 1324.87109375, 1283.0472412109375, 1170.1497802734375, 1051.3258056640625, 1044.8497314453125, 1032.841796875, 991.945068359375, 948.3642578125, 903.3125610351562, 899.610595703125, 857.0262451171875, 778.4805908203125, 774.5875854492188, 770.330322265625, 748.3857421875, 744.84033203125, 713.0961303710938, 679.605712890625, 676.9700927734375, 670.9407348632812, 655.7643432617188, 642.98974609375, 640.1146240234375, 609.143310546875, 962.399658203125, 1205.6458740234375, 3014.88671875, 1055.87890625, 1037.8245849609375, 1020.0718994140625, 737.3036499023438, 4054.851318359375, 3894.664794921875, 3111.130615234375, 2036.4501953125, 1948.434814453125, 1818.8140869140625, 1517.634765625, 1257.772705078125, 1255.9326171875, 1179.365966796875, 1151.095458984375, 1070.130859375, 1042.7503662109375, 1002.9863891601562, 975.9478149414062, 966.3999633789062, 954.9546508789062, 941.9683837890625, 936.4682006835938, 920.563720703125, 848.1380004882812, 842.7112426757812, 837.8253784179688, 4120.18701171875, 793.6112060546875, 778.4077758789062, 766.2568969726562, 750.7703857421875, 746.2525024414062, 704.81640625, 1055.3502197265625, 3031.793701171875, 2000.019287109375, 1628.8095703125, 1548.32958984375, 1465.5068359375, 1345.9674072265625, 1310.813720703125, 1123.94189453125, 1058.625, 995.779541015625, 859.0858154296875, 767.1102905273438, 752.1445922851562, 744.1038818359375, 729.9016723632812, 717.4302368164062, 671.3690185546875, 593.1588745117188, 570.1884765625, 556.854248046875, 523.0527954101562, 504.29296875, 494.31988525390625, 481.89996337890625, 463.411865234375, 461.78692626953125, 443.58453369140625, 438.38995361328125, 430.6833190917969, 416.748291015625, 2394.71435546875, 917.3359375, 492.140625, 847.3684692382812, 738.8718872070312, 6030.25244140625, 2267.260986328125, 1426.5560302734375, 1409.90869140625, 1190.09326171875, 1169.0716552734375, 1032.275146484375, 966.4839477539062, 810.4149780273438, 639.6678466796875, 636.2216186523438, 584.345703125, 566.4419555664062, 540.5169067382812, 540.03955078125, 485.0322570800781, 481.49688720703125, 442.3184509277344, 396.48846435546875, 381.7169494628906, 333.6043701171875, 323.4946594238281, 309.5768737792969, 304.2352600097656, 269.3211364746094, 266.3977966308594, 254.65818786621094, 234.47474670410156, 227.04685974121094, 195.30941772460938, 2041.5008544921875, 867.5576171875, 814.0596313476562, 777.5418701171875, 740.6741333007812, 732.4118041992188, 724.2882080078125, 620.7417602539062, 563.55908203125, 509.8161315917969, 467.763916015625, 464.4330139160156, 463.8010559082031, 440.6189270019531, 411.7146301269531, 393.5989685058594, 390.12078857421875, 623.695556640625, 384.0818786621094, 354.4803466796875, 344.7563171386719, 334.349365234375, 325.5960693359375, 321.5832824707031, 298.2225341796875, 293.92645263671875, 254.1032257080078, 251.03958129882812, 250.9599609375, 224.6166534423828, 295.4039306640625, 1270.2884521484375, 1215.5821533203125, 1020.1174926757812, 683.2264404296875, 664.2237548828125, 618.3106689453125, 614.6556396484375, 600.0038452148438, 513.9014282226562, 510.9002380371094, 472.92718505859375, 436.13818359375, 416.3331604003906, 403.4219055175781, 402.2383728027344, 367.8082580566406, 364.8080749511719, 335.9351806640625, 309.2630920410156, 284.14459228515625, 277.47601318359375, 277.2196044921875, 276.1345520019531, 261.458251953125, 260.9189453125, 258.4483642578125, 234.9301300048828, 229.84283447265625, 205.14398193359375, 204.87075805664062, 518.2413940429688, 424.048095703125, 656.9598999023438, 266.616943359375, 1289.354248046875, 1218.2176513671875, 942.0568237304688, 938.9832763671875, 802.8200073242188, 663.553955078125, 648.3434448242188, 614.1074829101562, 578.881591796875, 543.4198608398438, 447.47320556640625, 430.409423828125, 402.3651428222656, 375.7248840332031, 357.27655029296875, 344.1031188964844, 336.4942932128906, 324.01190185546875, 310.52606201171875, 242.85910034179688, 242.70169067382812, 238.46066284179688, 237.24102783203125, 212.85128784179688, 209.44723510742188, 204.6037139892578, 201.4959716796875, 200.8199462890625, 197.93431091308594, 193.942138671875, 762.9763793945312, 1386.4661865234375, 6401.38037109375, 1291.361328125, 1261.14697265625, 806.1080322265625, 701.7295532226562, 528.4370727539062, 463.7366638183594, 394.58612060546875, 345.38067626953125, 313.38525390625, 277.0823669433594, 256.5071105957031, 251.58566284179688, 214.73556518554688, 180.22828674316406, 168.63897705078125, 165.5540771484375, 154.78224182128906, 153.38597106933594, 147.94027709960938, 140.24391174316406, 131.4285888671875, 127.8398208618164, 122.30551147460938, 114.9990463256836, 112.4710922241211, 106.4429931640625, 105.84231567382812, 94.26524353027344, 88.68726348876953, 1300.397705078125, 1792.5264892578125, 1263.4969482421875, 890.2633056640625, 640.4552612304688, 638.880126953125, 621.950927734375, 580.9210205078125, 603.4885864257812, 548.238525390625, 458.0343017578125, 412.28179931640625, 364.7810363769531, 349.1806945800781, 334.8671875, 282.8489990234375, 266.8863525390625, 255.86045837402344, 255.12095642089844, 250.2949676513672, 245.4926300048828, 234.26942443847656, 213.537109375, 211.07150268554688, 205.37937927246094, 198.08316040039062, 197.7928009033203, 192.2723388671875, 186.83277893066406, 183.61595153808594, 179.5920867919922, 511.4282531738281, 869.6642456054688, 853.99267578125, 698.9357299804688, 674.3934326171875, 533.501708984375, 458.1134338378906, 416.2447814941406, 403.52850341796875, 400.8291015625, 370.62030029296875, 344.662841796875, 339.5606384277344, 337.427490234375, 337.1850280761719, 310.93511962890625, 297.3113098144531, 285.6730651855469, 272.3473205566406, 251.13763427734375, 242.8616180419922, 240.00869750976562, 219.35000610351562, 219.0568084716797, 218.48204040527344, 217.56893920898438, 214.61387634277344, 209.74624633789062, 194.8160400390625, 186.1876220703125, 168.4386444091797, 301.4732666015625, 2046.818359375, 2033.5478515625, 691.0687255859375, 580.2936401367188, 540.2759399414062, 509.222900390625, 465.98956298828125, 416.12255859375, 341.67327880859375, 337.6663818359375, 311.8589782714844, 304.27496337890625, 279.13348388671875, 271.948974609375, 264.1784362792969, 229.06761169433594, 197.03750610351562, 177.8801727294922, 163.67904663085938, 142.55006408691406, 135.34213256835938, 129.88882446289062, 129.5784454345703, 109.98632049560547, 99.4554214477539, 98.27043151855469, 97.6777114868164, 75.42908477783203, 59.637725830078125, 57.30709457397461, 420.6201477050781, 326.2919921875, 212.13455200195312, 741.51171875, 2202.537841796875, 1123.4207763671875, 975.3682250976562, 866.3887329101562, 793.1309814453125, 715.4711303710938, 462.0957336425781, 362.9720153808594, 360.75604248046875, 358.8728332519531, 350.41943359375, 270.8613586425781, 268.1917724609375, 259.7019958496094, 243.2014617919922, 211.2830810546875, 205.04637145996094, 141.5612335205078, 119.42977905273438, 98.3284683227539, 85.0595932006836, 84.66788482666016, 79.79302978515625, 70.19708251953125, 70.17018127441406, 63.32600021362305, 55.85360336303711, 39.560699462890625, 384.7294616699219, 31.29570198059082, 1264.1663818359375, 1100.076171875, 583.3099365234375, 509.15167236328125, 434.4865417480469, 332.4250793457031, 330.550048828125, 311.2244873046875, 252.9763641357422, 234.39312744140625, 227.9678497314453, 214.8476104736328, 192.4705047607422, 176.54896545410156, 175.89967346191406, 170.4285888671875, 165.12802124023438, 156.94419860839844, 147.7056121826172, 136.6005401611328, 124.58177185058594, 99.38406372070312, 86.68264770507812, 84.80961608886719, 81.38299560546875, 68.1671142578125, 68.13352966308594, 63.348602294921875, 55.27680206298828, 54.50290298461914, 326.2919921875, 1855.7962646484375, 1432.4569091796875, 585.0955810546875, 517.0126342773438, 414.9878234863281, 367.600341796875, 363.4218444824219, 346.3027648925781, 276.73114013671875, 276.4359130859375, 249.63165283203125, 213.2300567626953, 181.68997192382812, 146.06260681152344, 121.8302993774414, 114.81696319580078, 99.91281127929688, 88.49797821044922, 85.16801452636719, 77.16973876953125, 55.20552062988281, 50.003822326660156, 41.813751220703125, 14.01899242401123, 12.530216217041016, 6.78614616394043, 1.6414141654968262, 1.6413323879241943, 1.6413710117340088, 1.6417961120605469, 1.6416516304016113, 975.302001953125, 589.1564331054688, 532.130859375, 528.9102172851562, 477.4637756347656, 408.421142578125, 372.26507568359375, 307.4117431640625, 284.9191589355469, 266.9848327636719, 243.63316345214844, 228.5522918701172, 215.32916259765625, 185.62550354003906, 177.2483367919922, 177.23580932617188, 176.76512145996094, 141.0217742919922, 137.41835021972656, 118.84821319580078, 116.34752655029297, 98.70943450927734, 93.53414916992188, 79.86140441894531, 67.10030364990234, 66.0635986328125, 65.38157653808594, 58.883113861083984, 53.42844772338867, 52.89702224731445, 817.8385620117188, 679.8348388671875, 506.7522888183594, 349.4580383300781, 295.0011291503906, 276.73699951171875, 271.4927978515625, 249.83432006835938, 234.62376403808594, 175.92552185058594, 174.08580017089844, 173.61581420898438, 113.52400207519531, 113.14305877685547, 102.8697509765625, 85.45933532714844, 74.84709167480469, 74.70418548583984, 41.706825256347656, 41.49478530883789, 39.64751052856445, 30.835086822509766, 27.89056396484375, 21.427778244018555, 21.005834579467773, 20.442825317382812, 19.571489334106445, 2267.953857421875, 8.118539810180664, 152.26683044433594, 470.6799011230469, 504.5660095214844, 967.5697631835938, 512.4183349609375, 273.7832336425781, 230.7523956298828, 187.79534912109375, 183.645751953125, 175.65042114257812, 168.39764404296875, 123.82630920410156, 115.11752319335938, 107.83938598632812, 102.03093719482422, 98.96739196777344, 79.66548156738281, 70.55238342285156, 66.69649505615234, 62.71116256713867, 56.732383728027344, 48.28408432006836, 46.82942581176758, 45.13674545288086, 39.88777160644531, 29.9115047454834, 27.520307540893555, 27.345731735229492, 26.2988224029541, 24.091463088989258, 23.176586151123047, 21.777767181396484, 21.31732749938965, 589.1216430664062, 234.27259826660156, 220.0718994140625, 207.9605712890625, 200.0821533203125, 166.66668701171875, 164.06582641601562, 160.65255737304688, 117.88365936279297, 114.09928131103516, 108.86686706542969, 107.9430160522461, 99.1025390625, 97.18912506103516, 95.48886108398438, 93.77426147460938, 89.28262329101562, 74.48780059814453, 71.5773696899414, 67.35606384277344, 64.24836730957031, 63.44941711425781, 56.69968795776367, 42.039066314697266, 38.5881462097168, 36.599037170410156, 32.747169494628906, 23.91561508178711, 20.961048126220703, 17.947519302368164, 479.7878723144531, 431.1880798339844, 169.46868896484375, 162.1336669921875, 161.10525512695312, 113.29888916015625, 109.25202941894531, 98.2109375, 96.62458801269531, 58.06882858276367, 57.33946990966797, 54.89263153076172, 53.89634323120117, 48.2558479309082, 48.12846755981445, 39.65371322631836, 37.567344665527344, 34.81573486328125, 34.24509811401367, 32.98430252075195, 27.320411682128906, 21.74672508239746, 17.413850784301758, 13.88930892944336, 13.169425010681152, 12.685040473937988, 12.432804107666016, 10.986710548400879, 1.6417961120605469, 1.6413236856460571, 1.6413739919662476, 1.6416029930114746, 180.0623321533203, 165.45664978027344, 124.43509674072266, 111.86058807373047, 48.07847213745117, 37.98771286010742, 27.74205780029297, 5.81671142578125, 1.6413277387619019, 1.6414324045181274, 1.6414474248886108, 1.6414051055908203, 1.6413971185684204, 1.6413848400115967, 1.6415612697601318, 1.6412930488586426, 1.6414991617202759, 1.6413769721984863, 1.6413127183914185, 1.641322374343872, 1.6412931680679321, 1.6414400339126587, 1.6413544416427612, 1.6413544416427612, 1.6413425207138062, 1.6413006782531738, 1.6413443088531494, 1.6413445472717285, 1.6413663625717163, 1.6413649320602417, 1.6414239406585693, 1.6413531303405762, 1.641406536102295, 1.6414401531219482, 1.6416029930114746, 1.641527771949768, 1.641592025756836, 1.641528606414795, 1.6414148807525635], \"loglift\": [30.0, 29.0, 28.0, 27.0, 26.0, 25.0, 24.0, 23.0, 22.0, 21.0, 20.0, 19.0, 18.0, 17.0, 16.0, 15.0, 14.0, 13.0, 12.0, 11.0, 10.0, 9.0, 8.0, 7.0, 6.0, 5.0, 4.0, 3.0, 2.0, 1.0, 1.7093000411987305, 1.7091000080108643, 1.7089999914169312, 1.708899974822998, 1.7086000442504883, 1.7085000276565552, 1.7085000276565552, 1.7085000276565552, 1.708400011062622, 1.7081999778747559, 1.7081999778747559, 1.7081999778747559, 1.7080999612808228, 1.7080999612808228, 1.7079999446868896, 1.7079999446868896, 1.707900047302246, 1.7077000141143799, 1.7077000141143799, 1.7077000141143799, 1.7075999975204468, 1.7075999975204468, 1.7074999809265137, 1.7073999643325806, 1.7073999643325806, 1.7073999643325806, 1.7072999477386475, 1.7072999477386475, 1.7072999477386475, 1.7071000337600708, 1.6964999437332153, 1.680400013923645, 1.6345000267028809, 1.6607999801635742, 1.6058000326156616, 1.5494999885559082, 1.6583000421524048, 1.7386000156402588, 1.7386000156402588, 1.7384999990463257, 1.7382999658584595, 1.7381999492645264, 1.7381999492645264, 1.7380000352859497, 1.7378000020980835, 1.7378000020980835, 1.7376999855041504, 1.7376999855041504, 1.7375999689102173, 1.7374999523162842, 1.7374999523162842, 1.7374000549316406, 1.7374000549316406, 1.7374000549316406, 1.7374000549316406, 1.7374000549316406, 1.7373000383377075, 1.7372000217437744, 1.7372000217437744, 1.7372000217437744, 1.7371000051498413, 1.7371000051498413, 1.7369999885559082, 1.7369999885559082, 1.7369999885559082, 1.736899971961975, 1.736799955368042, 1.6811000108718872, 2.1707000732421875, 2.1705000400543213, 2.170300006866455, 2.170300006866455, 2.1702001094818115, 2.170099973678589, 2.170099973678589, 2.1698999404907227, 2.169800043106079, 2.1696999073028564, 2.1695001125335693, 2.1691999435424805, 2.1691999435424805, 2.1691999435424805, 2.169100046157837, 2.169100046157837, 2.1689999103546143, 2.168600082397461, 2.1684999465942383, 2.1684999465942383, 2.168299913406372, 2.1682000160217285, 2.168100118637085, 2.1679999828338623, 2.1679000854492188, 2.1679000854492188, 2.167799949645996, 2.1677000522613525, 2.1677000522613525, 2.1675000190734863, 2.1191000938415527, 2.0611000061035156, 2.143899917602539, 1.889799952507019, 1.7688000202178955, 2.7555999755859375, 2.7551000118255615, 2.754699945449829, 2.754699945449829, 2.754499912261963, 2.754499912261963, 2.754300117492676, 2.754199981689453, 2.7539000511169434, 2.7534000873565674, 2.7534000873565674, 2.753200054168701, 2.7530999183654785, 2.753000020980835, 2.753000020980835, 2.7525999546051025, 2.7525999546051025, 2.7523000240325928, 2.7518999576568604, 2.751800060272217, 2.751199960708618, 2.750999927520752, 2.7507998943328857, 2.750699996948242, 2.7500998973846436, 2.75, 2.7497000694274902, 2.7492001056671143, 2.749000072479248, 2.7479000091552734, 2.7553000450134277, 2.754199981689453, 2.7541000843048096, 2.753999948501587, 2.7539000511169434, 2.7539000511169434, 2.7539000511169434, 2.753499984741211, 2.7532999515533447, 2.753000020980835, 2.752700090408325, 2.752700090408325, 2.752700090408325, 2.752500057220459, 2.75219988822937, 2.7520999908447266, 2.752000093460083, 2.752000093460083, 2.752000093460083, 2.7516000270843506, 2.751499891281128, 2.7513999938964844, 2.751199960708618, 2.751199960708618, 2.7507998943328857, 2.750699996948242, 2.7499001026153564, 2.749799966812134, 2.749799966812134, 2.7490999698638916, 2.5548999309539795, 2.986999988555908, 2.9869000911712646, 2.9867000579833984, 2.9858999252319336, 2.9858999252319336, 2.9856998920440674, 2.9856998920440674, 2.985599994659424, 2.9851999282836914, 2.9851999282836914, 2.9848999977111816, 2.984600067138672, 2.984499931335449, 2.984299898147583, 2.984299898147583, 2.9839999675750732, 2.9839000701904297, 2.983599901199341, 2.9832000732421875, 2.9827001094818115, 2.982599973678589, 2.982599973678589, 2.982599973678589, 2.9821999073028564, 2.9821999073028564, 2.9821999073028564, 2.981600046157837, 2.9814000129699707, 2.980600118637085, 2.980600118637085, 2.956399917602539, 2.92330002784729, 2.7832999229431152, 2.900700092315674, 3.013200044631958, 3.0130999088287354, 3.0127999782562256, 3.0127999782562256, 3.012500047683716, 3.0120999813079834, 3.01200008392334, 3.011899948120117, 3.011699914932251, 3.0114998817443848, 3.0109000205993652, 3.0107998847961426, 3.010499954223633, 3.0102999210357666, 3.0100998878479004, 3.0099000930786133, 3.0097999572753906, 3.0095999240875244, 3.009399890899658, 3.007999897003174, 3.007999897003174, 3.0078999996185303, 3.0078001022338867, 3.0071001052856445, 3.006999969482422, 3.0067999362945557, 3.006700038909912, 3.006700038909912, 3.006500005722046, 3.0064001083374023, 2.837599992752075, 2.7513999938964844, 3.1354000568389893, 3.134500026702881, 3.134500026702881, 3.1338000297546387, 3.133500099182129, 3.1328001022338867, 3.1324000358581543, 3.1317999362945557, 3.131200075149536, 3.1308000087738037, 3.1301000118255615, 3.129699945449829, 3.1296000480651855, 3.128499984741211, 3.1270999908447266, 3.1266000270843506, 3.1263999938964844, 3.125699996948242, 3.1256000995635986, 3.1252999305725098, 3.1247000694274902, 3.124000072479248, 3.1236000061035156, 3.1231000423431396, 3.122299909591675, 3.121999979019165, 3.1212000846862793, 3.1210999488830566, 3.11929988861084, 3.118299961090088, 3.0143001079559326, 3.23799991607666, 3.2376999855041504, 3.2372000217437744, 3.2365000247955322, 3.2365000247955322, 3.2363998889923096, 3.2362000942230225, 3.2362000942230225, 3.2360999584198, 3.2355000972747803, 3.235100030899048, 3.234600067138672, 3.2344000339508057, 3.234299898147583, 3.2334001064300537, 3.233099937438965, 3.232800006866455, 3.232800006866455, 3.2327001094818115, 3.232599973678589, 3.232300043106079, 3.231600046157837, 3.2314999103546143, 3.231300115585327, 3.2309999465942383, 3.2309999465942383, 3.230799913406372, 3.230600118637085, 3.2304000854492188, 3.2302000522613525, 2.527400016784668, 3.381999969482422, 3.381999969482422, 3.3815999031066895, 3.381500005722046, 3.3808999061584473, 3.3803999423980713, 3.3801000118255615, 3.380000114440918, 3.3798999786376953, 3.3796000480651855, 3.379300117492676, 3.379199981689453, 3.379199981689453, 3.379199981689453, 3.3787999153137207, 3.3785998821258545, 3.3784000873565674, 3.3780999183654785, 3.3775999546051025, 3.3773999214172363, 3.3773000240325928, 3.376699924468994, 3.376699924468994, 3.376699924468994, 3.3766000270843506, 3.3766000270843506, 3.3763999938964844, 3.3757998943328857, 3.3754000663757324, 3.3745999336242676, 3.319200038909912, 3.4428999423980713, 3.4428999423980713, 3.4414000511169434, 3.440999984741211, 3.4407999515533447, 3.4405999183654785, 3.4402999877929688, 3.4398999214172363, 3.4391000270843506, 3.438999891281128, 3.4386000633239746, 3.438499927520752, 3.4381000995635986, 3.4379000663757324, 3.437700033187866, 3.436800003051758, 3.435699939727783, 3.4349000453948975, 3.4340999126434326, 3.4326999187469482, 3.4321000576019287, 3.4316000938415527, 3.4316000938415527, 3.4293999671936035, 3.4279000759124756, 3.4277000427246094, 3.4275999069213867, 3.422800064086914, 3.4172000885009766, 3.416100025177002, 3.3447000980377197, 3.1445999145507812, 2.7523999214172363, 1.4671000242233276, 3.5153000354766846, 3.5146000385284424, 3.514400005340576, 3.51419997215271, 3.5139999389648438, 3.5137999057769775, 3.5125999450683594, 3.511699914932251, 3.5116000175476074, 3.5116000175476074, 3.5114998817443848, 3.510200023651123, 3.5100998878479004, 3.509999990463257, 3.509500026702881, 3.5085999965667725, 3.5083000659942627, 3.5048999786376953, 3.5028998851776123, 3.5, 3.497499942779541, 3.4974000453948975, 3.496299982070923, 3.4935998916625977, 3.4935998916625977, 3.4911000728607178, 3.4876999855041504, 3.4758999347686768, 3.4723000526428223, 3.4649999141693115, 3.767199993133545, 3.7671000957489014, 3.7657999992370605, 3.765399932861328, 3.764899969100952, 3.7637999057769775, 3.763700008392334, 3.763400077819824, 3.7623000144958496, 3.7618000507354736, 3.7616000175476074, 3.761199951171875, 3.7602999210357666, 3.7595999240875244, 3.759500026702881, 3.759200096130371, 3.759000062942505, 3.758500099182129, 3.7578001022338867, 3.7569000720977783, 3.7558000087738037, 3.7525999546051025, 3.750200033187866, 3.749799966812134, 3.749000072479248, 3.7451999187469482, 3.7451999187469482, 3.7434000968933105, 3.7397000789642334, 3.739300012588501, 2.3977999687194824, 3.8361001014709473, 3.8357999324798584, 3.8343000411987305, 3.833899974822998, 3.8331000804901123, 3.83270001411438, 3.8326001167297363, 3.83240008354187, 3.831199884414673, 3.831199884414673, 3.8306000232696533, 3.8294999599456787, 3.8282999992370605, 3.8261001110076904, 3.8239998817443848, 3.823199987411499, 3.8210999965667725, 3.819000005722046, 3.8183000087738037, 3.8164000511169434, 3.8080999851226807, 3.805000066757202, 3.7987000942230225, 3.7181999683380127, 3.7030999660491943, 3.5738000869750977, 0.7013000249862671, 0.701200008392334, 0.7010999917984009, 0.7010999917984009, 0.7009999752044678, 3.8457000255584717, 3.8447000980377197, 3.844399929046631, 3.844399929046631, 3.8440001010894775, 3.8434998989105225, 3.843100070953369, 3.8422000408172607, 3.8417999744415283, 3.841399908065796, 3.84089994430542, 3.840399980545044, 3.8399999141693115, 3.8387999534606934, 3.838399887084961, 3.838399887084961, 3.838399887084961, 3.8361001014709473, 3.835900068283081, 3.8340001106262207, 3.8338000774383545, 3.8313000202178955, 3.830399990081787, 3.827500104904175, 3.823699951171875, 3.8232998847961426, 3.8231000900268555, 3.8203999996185303, 3.8176000118255615, 3.8173000812530518, 3.8973000049591064, 3.896899938583374, 3.8961000442504883, 3.894700050354004, 3.893899917602539, 3.8935000896453857, 3.893399953842163, 3.892899990081787, 3.8924999237060547, 3.890199899673462, 3.8901000022888184, 3.8901000022888184, 3.8852999210357666, 3.885200023651123, 3.8838000297546387, 3.88070011138916, 3.878000020980835, 3.878000020980835, 3.8608999252319336, 3.8606998920440674, 3.8589000701904297, 3.8469998836517334, 3.841399908065796, 3.823199987411499, 3.821700096130371, 3.8194000720977783, 3.815700054168701, 3.788599967956543, 3.6847000122070312, 3.312000036239624, 1.9186999797821045, 1.656000018119812, 4.335899829864502, 4.334400177001953, 4.3317999839782715, 4.330699920654297, 4.329100131988525, 4.32889986038208, 4.328499794006348, 4.328100204467773, 4.324699878692627, 4.323800086975098, 4.322800159454346, 4.322000026702881, 4.321499824523926, 4.317599773406982, 4.315000057220459, 4.313700199127197, 4.312099933624268, 4.3094000816345215, 4.3043999671936035, 4.303400039672852, 4.30210018157959, 4.297299861907959, 4.283599853515625, 4.27869987487793, 4.27839994430542, 4.275899887084961, 4.270100116729736, 4.267300128936768, 4.262599945068359, 4.261000156402588, 4.447199821472168, 4.4430999755859375, 4.442699909210205, 4.442299842834473, 4.441999912261963, 4.440400123596191, 4.440199851989746, 4.440000057220459, 4.436399936676025, 4.435999870300293, 4.435299873352051, 4.435200214385986, 4.433800220489502, 4.433499813079834, 4.433199882507324, 4.4328999519348145, 4.43209981918335, 4.428500175476074, 4.427599906921387, 4.426199913024902, 4.425000190734863, 4.424699783325195, 4.4217000007629395, 4.4116997718811035, 4.408199787139893, 4.405799865722656, 4.4004998207092285, 4.381700038909912, 4.371699810028076, 4.357900142669678, 4.643700122833252, 4.6433000564575195, 4.637599945068359, 4.637199878692627, 4.6371002197265625, 4.632900238037109, 4.632400035858154, 4.630799770355225, 4.630499839782715, 4.6194000244140625, 4.619100093841553, 4.617800235748291, 4.617300033569336, 4.613800048828125, 4.613699913024902, 4.606400012969971, 4.604100227355957, 4.600599765777588, 4.599899768829346, 4.5980000495910645, 4.587600231170654, 4.571700096130371, 4.55210018157959, 4.526599884033203, 4.519499778747559, 4.5142998695373535, 4.511499881744385, 4.492199897766113, 1.4320000410079956, 1.4319000244140625, 1.4319000244140625, 1.4318000078201294, 5.524400234222412, 5.523600101470947, 5.520299911499023, 5.518899917602539, 5.4994001388549805, 5.490200042724609, 5.473700046539307, 5.2104997634887695, 1.7218999862670898, 1.7217999696731567, 1.7217999696731567, 1.7217999696731567, 1.7217999696731567, 1.7217999696731567, 1.7217999696731567, 1.7217999696731567, 1.7217999696731567, 1.7217999696731567, 1.7217999696731567, 1.7216999530792236, 1.7216999530792236, 1.7216999530792236, 1.7216999530792236, 1.7216999530792236, 1.7216999530792236, 1.7216999530792236, 1.7216999530792236, 1.7216999530792236, 1.7216999530792236, 1.7216999530792236, 1.7216999530792236, 1.7216999530792236, 1.7216999530792236, 1.7216999530792236, 1.72160005569458, 1.7216999530792236, 1.72160005569458, 1.72160005569458, 1.7216999530792236], \"logprob\": [30.0, 29.0, 28.0, 27.0, 26.0, 25.0, 24.0, 23.0, 22.0, 21.0, 20.0, 19.0, 18.0, 17.0, 16.0, 15.0, 14.0, 13.0, 12.0, 11.0, 10.0, 9.0, 8.0, 7.0, 6.0, 5.0, 4.0, 3.0, 2.0, 1.0, -3.045300006866455, -3.4576001167297363, -3.625200033187866, -3.8006999492645264, -4.126699924468994, -4.179699897766113, -4.180799961090088, -4.212900161743164, -4.305099964141846, -4.412300109863281, -4.418499946594238, -4.430099964141846, -4.4704999923706055, -4.515500068664551, -4.564300060272217, -4.568399906158447, -4.617000102996826, -4.7133002281188965, -4.718299865722656, -4.723800182342529, -4.752799987792969, -4.757599830627441, -4.801199913024902, -4.849400043487549, -4.853300094604492, -4.862299919128418, -4.885200023651123, -4.904900074005127, -4.90939998626709, -4.959099769592285, -4.512499809265137, -4.303199768066406, -3.432499885559082, -4.455399990081787, -4.527699947357178, -4.601200103759766, -4.816999912261963, -3.0320000648498535, -3.0724000930786133, -3.297100067138672, -3.721100091934204, -3.7653000354766846, -3.834199905395508, -4.015399932861328, -4.203499794006348, -4.204899787902832, -4.267899990081787, -4.292200088500977, -4.365200042724609, -4.391200065612793, -4.430099964141846, -4.457499980926514, -4.467299938201904, -4.479300022125244, -4.493000030517578, -4.498899936676025, -4.515999794006348, -4.598100185394287, -4.604499816894531, -4.610400199890137, -3.0176000595092773, -4.664700031280518, -4.684100151062012, -4.69980001449585, -4.720300197601318, -4.72629976272583, -4.783599853515625, -4.4355998039245605, -2.890700101852417, -3.3069000244140625, -3.512399911880493, -3.563199996948242, -3.6182000637054443, -3.703399896621704, -3.7298998832702637, -3.8838999271392822, -3.9437999725341797, -4.005099773406982, -4.1529998779296875, -4.266499996185303, -4.286200046539307, -4.296999931335449, -4.316299915313721, -4.333600044250488, -4.400100231170654, -4.524199962615967, -4.563799858093262, -4.587600231170654, -4.650400161743164, -4.686999797821045, -4.706999778747559, -4.732600212097168, -4.7718000411987305, -4.775300025939941, -4.815700054168701, -4.827499866485596, -4.845300197601318, -4.878300189971924, -3.1782000064849854, -4.195799827575684, -4.7357001304626465, -4.446400165557861, -4.704500198364258, -1.6181999444961548, -2.59689998626709, -3.0606000423431396, -3.0722999572753906, -3.242000102996826, -3.2599000930786133, -3.384500026702881, -3.450500011444092, -3.6268999576568604, -3.864000082015991, -3.8694000244140625, -3.954699993133545, -3.9858999252319336, -4.032899856567383, -4.033699989318848, -4.141499996185303, -4.148799896240234, -4.234000205993652, -4.343800067901611, -4.381899833679199, -4.517199993133545, -4.548099994659424, -4.592299938201904, -4.609799861907959, -4.732399940490723, -4.743299961090088, -4.788700103759766, -4.871799945831299, -4.904200077056885, -5.0559000968933105, -2.7016000747680664, -3.5583999156951904, -3.6222000122070312, -3.6682000160217285, -3.716900110244751, -3.728100061416626, -3.739300012588501, -3.893899917602539, -3.990799903869629, -4.091300010681152, -4.177700042724609, -4.184800148010254, -4.186200141906738, -4.23769998550415, -4.305799961090088, -4.350900173187256, -4.359799861907959, -3.890700101852417, -4.375500202178955, -4.456099987030029, -4.484000205993652, -4.514800071716309, -4.541399955749512, -4.553899765014648, -4.629700183868408, -4.6442999839782715, -4.7906999588012695, -4.8028998374938965, -4.803199768066406, -4.914899826049805, -4.835100173950195, -2.9444000720977783, -2.9883999824523926, -3.1640000343322754, -3.5655999183654785, -3.593899965286255, -3.6656999588012695, -3.671600103378296, -3.6958000659942627, -3.851099967956543, -3.8570001125335693, -3.934499979019165, -4.015699863433838, -4.062399864196777, -4.093999862670898, -4.0970001220703125, -4.186800003051758, -4.195000171661377, -4.277900218963623, -4.361000061035156, -4.446100234985352, -4.46999979019165, -4.470900058746338, -4.474899768829346, -4.529799938201904, -4.531899929046631, -4.541500091552734, -4.637499809265137, -4.6595001220703125, -4.77400016784668, -4.775400161743164, -3.871500015258789, -4.105199813842773, -3.807499885559082, -4.591800212860107, -2.9031999111175537, -2.960099935531616, -3.2174999713897705, -3.2207999229431152, -3.377700090408325, -3.568700075149536, -3.591900110244751, -3.6463000774383545, -3.7054998874664307, -3.768899917602539, -3.9637999534606934, -4.002799987792969, -4.070400238037109, -4.139200210571289, -4.189799785614014, -4.227499961853027, -4.25, -4.288000106811523, -4.330699920654297, -4.577899932861328, -4.578499794006348, -4.59630012512207, -4.601399898529053, -4.710700035095215, -4.726900100708008, -4.750500202178955, -4.765900135040283, -4.7692999839782715, -4.783899784088135, -4.8043999671936035, -3.6034998893737793, -3.092400074005127, -1.1785999536514282, -2.780400037765503, -2.8041000366210938, -3.2523999214172363, -3.3912999629974365, -3.6756999492645264, -3.8066999912261963, -3.9686999320983887, -4.102499961853027, -4.200099945068359, -4.32390022277832, -4.401500225067139, -4.421000003814697, -4.580399990081787, -4.756999969482422, -4.823999881744385, -4.842700004577637, -4.910600185394287, -4.9197001457214355, -4.956299781799316, -5.010300159454346, -5.075900077819824, -5.103899955749512, -5.14870023727417, -5.211100101470947, -5.233699798583984, -5.2895002365112305, -5.295300006866455, -5.412899971008301, -5.474899768829346, -2.8935999870300293, -2.348900079727173, -2.6989998817443848, -3.0497000217437744, -3.379699945449829, -3.382200002670288, -3.40910005569458, -3.4774999618530273, -3.4393999576568604, -3.535599946975708, -3.71589994430542, -3.821500062942505, -3.9444000720977783, -3.988300085067749, -4.030399799346924, -4.199999809265137, -4.258399963378906, -4.300899982452393, -4.303800106048584, -4.322999954223633, -4.34250020980835, -4.389599800109863, -4.482900142669678, -4.49459981918335, -4.522200107574463, -4.558599948883057, -4.560100078582764, -4.588600158691406, -4.617599964141846, -4.6350998878479, -4.657400131225586, -4.313799858093262, -2.9282000064849854, -2.9463999271392822, -3.147200107574463, -3.183000087738037, -3.4179999828338623, -3.5708000659942627, -3.6670000553131104, -3.6981000900268555, -3.704900026321411, -3.783600091934204, -3.8564999103546143, -3.871500015258789, -3.8777999877929688, -3.878499984741211, -3.9600000381469727, -4.005000114440918, -4.045100212097168, -4.093200206756592, -4.174699783325195, -4.208499908447266, -4.220300197601318, -4.310999870300293, -4.312300205230713, -4.315000057220459, -4.319200038909912, -4.332900047302246, -4.356100082397461, -4.430500030517578, -4.476099967956543, -4.577199935913086, -4.05049991607666, -2.011399984359741, -2.017899990081787, -3.0987000465393066, -3.2737998962402344, -3.3454999923706055, -3.404900074005127, -3.4939000606536865, -3.6075000762939453, -3.8053998947143555, -3.8173000812530518, -3.8970999717712402, -3.9219000339508057, -4.008600234985352, -4.034800052642822, -4.064000129699707, -4.207499980926514, -4.3592000007629395, -4.462399959564209, -4.546299934387207, -4.685999870300293, -4.738500118255615, -4.780099868774414, -4.78249979019165, -4.948599815368652, -5.05079984664917, -5.062900066375732, -5.0690999031066895, -5.332399845123291, -5.57289981842041, -5.613800048828125, -3.6919000148773193, -4.145999908447266, -4.968699932098389, -5.002600193023682, -1.8657000064849854, -2.539599895477295, -2.6812000274658203, -2.799799919128418, -2.888400077819824, -2.9916000366210938, -3.430000066757202, -3.672300100326538, -3.678499937057495, -3.683799982070923, -3.70770001411438, -3.9665000438690186, -3.9765000343322754, -4.008900165557861, -4.074900150299072, -4.216599941253662, -4.246799945831299, -4.620699882507324, -4.792799949645996, -4.989999771118164, -5.137499809265137, -5.142199993133545, -5.202600002288818, -5.333499908447266, -5.333899974822998, -5.438899993896484, -5.56790018081665, -5.924600124359131, -3.6535000801086426, -6.169899940490723, -2.1689000129699707, -2.3080999851226807, -2.9437999725341797, -3.080199956893921, -3.239300012588501, -3.50819993019104, -3.5137999057769775, -3.574399948120117, -3.7827999591827393, -3.859600067138672, -3.887500047683716, -3.947200059890747, -4.05810022354126, -4.145199775695801, -4.148900032043457, -4.180799961090088, -4.212699890136719, -4.263999938964844, -4.325300216674805, -4.404300212860107, -4.497499942779541, -4.726799964904785, -4.865799903869629, -4.8881001472473145, -4.930099964141846, -5.111100196838379, -5.111700057983398, -5.186200141906738, -5.326300144195557, -5.340799808502197, -4.8927001953125, -1.7161999940872192, -1.9753999710083008, -2.872299909591675, -2.9964001178741455, -3.216900110244751, -3.33870005607605, -3.3501999378204346, -3.3986001014709473, -3.624000072479248, -3.6250998973846436, -3.7276999950408936, -3.886399984359741, -4.047800064086914, -4.268199920654297, -4.451700210571289, -4.5117998123168945, -4.652900218963623, -4.776299953460693, -4.815400123596191, -4.915900230407715, -5.259200096130371, -5.361199855804443, -5.54640007019043, -6.719799995422363, -6.847099781036377, -7.589600086212158, -11.881500244140625, -11.881600379943848, -11.881699562072754, -11.881400108337402, -11.881600379943848, -2.349900007247925, -2.8550000190734863, -2.9570999145507812, -2.963200092315674, -3.0657999515533447, -3.222599983215332, -3.3155999183654785, -3.5078999996185303, -3.5843000411987305, -3.6496999263763428, -3.74180006980896, -3.8060998916625977, -3.8661999702453613, -4.0157999992370605, -4.062300205230713, -4.062399864196777, -4.065100193023682, -4.293300151824951, -4.319499969482422, -4.466400146484375, -4.48799991607666, -4.654799938201904, -4.70959997177124, -4.870500087738037, -5.048500061035156, -5.0644001960754395, -5.074999809265137, -5.182400226593018, -5.282400131225586, -5.292699813842773, -2.474400043487549, -2.659600019454956, -2.954200029373169, -3.3273000717163086, -3.497499942779541, -3.561800003051758, -3.5810000896453857, -3.6647000312805176, -3.7279000282287598, -4.01800012588501, -4.02869987487793, -4.031400203704834, -4.460999965667725, -4.4644999504089355, -4.560999870300293, -4.749599933624268, -4.884900093078613, -4.8867998123168945, -5.486800193786621, -5.492099761962891, -5.5395002365112305, -5.802700042724609, -5.908699989318848, -6.190400123596191, -6.211900234222412, -6.241300106048584, -6.28849983215332, -1.563099980354309, -7.2993998527526855, -4.740699768066406, -5.005499839782715, -5.198699951171875, -1.8676999807357788, -2.5048000812530518, -3.134200096130371, -3.306299924850464, -3.5139000415802, -3.536400079727173, -3.5813000202178955, -3.6238999366760254, -3.9347000122070312, -4.008600234985352, -4.074900150299072, -4.131100177764893, -4.1620001792907715, -4.382900238037109, -4.506999969482422, -4.564499855041504, -4.627699851989746, -4.730599880218506, -4.8968000411987305, -4.928400039672852, -4.966599941253662, -5.094900131225586, -5.396500110626221, -5.4847002029418945, -5.491399765014648, -5.532899856567383, -5.626399993896484, -5.667900085449219, -5.734799861907959, -5.757900238037109, -2.252500057220459, -3.1786999702453613, -3.2416999340057373, -3.2987000942230225, -3.337599992752075, -3.5220000743865967, -3.5378000736236572, -3.5590999126434326, -3.8722000122070312, -3.9052999019622803, -3.952899932861328, -3.9616000652313232, -4.048299789428711, -4.06820011138916, -4.086100101470947, -4.104499816894531, -4.1545000076293945, -4.339200019836426, -4.380000114440918, -4.442200183868408, -4.490499973297119, -4.503399848937988, -4.618899822235107, -4.928100109100342, -5.017199993133545, -5.072500228881836, -5.189000129699707, -5.52209997177124, -5.664000034332275, -5.832900047302246, -2.2613000869750977, -2.368499994277954, -3.3080999851226807, -3.3526999950408936, -3.3592000007629395, -3.715399980545044, -3.7523000240325928, -3.8603999614715576, -3.877000093460083, -4.397299766540527, -4.410299777984619, -4.455100059509277, -4.473999977111816, -4.588099956512451, -4.590799808502197, -4.7916998863220215, -4.848100185394287, -4.927599906921387, -4.944900035858154, -4.984300136566162, -5.183199882507324, -5.42710018157959, -5.669000148773193, -5.9207000732421875, -5.980899810791016, -6.023600101470947, -6.046500205993652, -6.189499855041504, -11.15060043334961, -11.150899887084961, -11.150899887084961, -11.150899887084961, -2.3606998920440674, -2.4460999965667725, -2.7342000007629395, -2.8422000408172607, -3.7060999870300293, -3.950900077819824, -4.281700134277344, -6.107100009918213, -10.860899925231934, -10.861000061035156, -10.861000061035156, -10.861000061035156, -10.861000061035156, -10.861000061035156, -10.860899925231934, -10.861100196838379, -10.861000061035156, -10.861100196838379, -10.861100196838379, -10.861100196838379, -10.861100196838379, -10.861000061035156, -10.861100196838379, -10.861100196838379, -10.861100196838379, -10.861100196838379, -10.861100196838379, -10.861100196838379, -10.861100196838379, -10.861100196838379, -10.861100196838379, -10.861100196838379, -10.861100196838379, -10.861100196838379, -10.861000061035156, -10.861100196838379, -10.861100196838379, -10.861100196838379, -10.861100196838379]}, \"token.table\": {\"Topic\": [14, 14, 6, 8, 17, 6, 17, 14, 2, 10, 6, 6, 6, 4, 18, 8, 9, 6, 14, 10, 19, 7, 1, 4, 17, 14, 7, 16, 10, 2, 9, 5, 14, 15, 15, 5, 5, 10, 8, 17, 8, 20, 10, 12, 1, 2, 17, 15, 18, 11, 9, 5, 7, 15, 8, 1, 5, 6, 9, 15, 5, 19, 7, 1, 5, 5, 9, 16, 16, 18, 13, 8, 17, 6, 4, 14, 1, 5, 9, 2, 9, 6, 3, 11, 8, 5, 16, 1, 1, 14, 16, 5, 5, 1, 14, 19, 10, 17, 17, 12, 12, 10, 13, 18, 12, 15, 4, 3, 13, 18, 16, 1, 6, 10, 7, 18, 2, 11, 15, 8, 14, 5, 12, 17, 9, 10, 18, 12, 12, 11, 11, 16, 3, 17, 9, 12, 3, 9, 20, 11, 6, 4, 18, 15, 10, 14, 2, 9, 3, 16, 16, 5, 3, 4, 6, 12, 12, 2, 10, 8, 4, 16, 18, 9, 6, 3, 3, 5, 2, 6, 15, 15, 7, 5, 8, 14, 14, 6, 12, 13, 1, 8, 17, 15, 7, 12, 10, 15, 4, 10, 16, 19, 10, 4, 7, 3, 20, 3, 19, 15, 1, 19, 1, 12, 16, 10, 2, 7, 16, 10, 3, 6, 13, 1, 2, 4, 11, 9, 1, 9, 19, 12, 4, 10, 1, 4, 9, 9, 7, 9, 19, 18, 12, 8, 13, 11, 10, 10, 2, 9, 6, 4, 12, 2, 6, 5, 16, 5, 7, 7, 13, 19, 1, 9, 15, 11, 3, 2, 17, 12, 10, 1, 5, 2, 11, 8, 5, 9, 17, 13, 2, 13, 18, 11, 13, 7, 15, 15, 18, 7, 2, 2, 11, 16, 3, 20, 15, 5, 5, 14, 18, 3, 6, 1, 7, 19, 16, 11, 16, 16, 1, 19, 8, 6, 10, 19, 17, 11, 16, 16, 1, 17, 17, 2, 5, 18, 11, 3, 15, 19, 7, 15, 6, 12, 14, 13, 18, 3, 6, 3, 7, 8, 1, 2, 4, 14, 19, 14, 2, 1, 6, 1, 4, 2, 8, 1, 18, 15, 13, 14, 8, 13, 4, 8, 4, 3, 4, 17, 19, 5, 18, 7, 15, 18, 11, 17, 15, 7, 18, 2, 17, 3, 5, 19, 17, 11, 2, 10, 13, 4, 5, 3, 5, 11, 17, 8, 3, 2, 3, 13, 2, 14, 19, 9, 13, 3, 10, 16, 1, 7, 16, 14, 19, 6, 4, 1, 16, 11, 13, 6, 4, 15, 4, 6, 11, 8, 10, 16, 13, 13, 17, 2, 10, 9, 5, 12, 5, 3, 17, 1, 3, 11, 17, 14, 11, 2, 5, 16, 14, 4, 18, 18, 4, 1, 3, 4, 5, 12, 11, 4, 11, 1, 19, 10, 5, 9, 13, 1, 3, 6, 1, 7, 13, 3, 6, 13, 20, 16, 17, 1, 2, 19, 1, 6, 18, 19, 1, 7, 3, 20, 1, 1, 1, 3, 1, 5, 6, 11, 14, 12, 17, 15, 15, 11, 8, 18, 18, 17, 2, 11, 12, 18, 10, 13, 13, 1, 7, 16, 9, 7, 18, 16, 12, 8, 8, 19, 8, 3, 7, 9, 19, 18, 9, 12, 14, 18, 12, 5, 10, 2, 13, 19, 3, 13, 5, 4, 15, 13, 13, 13, 1, 11, 12, 8, 7, 4, 6, 20, 1, 11, 1, 11, 6, 9, 17, 18, 7, 16, 8, 19, 13, 15, 5, 7, 6, 17, 7, 8, 17, 12, 14, 4, 3, 2, 9, 4, 7, 11, 2, 10, 3, 15, 7, 2, 5, 16, 5, 7, 15, 12, 8, 11, 11, 3, 8, 19, 5, 8, 4, 6, 9, 5, 1, 19, 5, 5, 11, 10, 6, 4, 19, 8, 12, 3, 9, 11, 5, 18, 16, 14, 3, 15, 11, 13, 1, 5, 13, 10, 9, 9, 9, 16, 12, 4, 1, 7, 2, 8, 20], \"Freq\": [0.73679518699646, 0.9566230773925781, 0.9963000416755676, 0.9990905523300171, 0.9546950459480286, 0.994395911693573, 0.9790940880775452, 0.9830732941627502, 0.9980041980743408, 0.9954367280006409, 0.9908685684204102, 0.9967978596687317, 0.9989045262336731, 0.9958100318908691, 0.9905723929405212, 0.9864435195922852, 0.9933826327323914, 0.9982049465179443, 0.8778778910636902, 0.9962121844291687, 0.9398410320281982, 0.9967495799064636, 0.9981483817100525, 0.9990833401679993, 0.9748155474662781, 0.9961071610450745, 0.9930902123451233, 0.9937232732772827, 0.9954039454460144, 0.9980195164680481, 0.9970571398735046, 0.9971940517425537, 0.9937443137168884, 0.9966017007827759, 0.9986650347709656, 0.9980170130729675, 0.9918754696846008, 0.9979338049888611, 0.9997843503952026, 0.9917003512382507, 0.9931848049163818, 0.9372051954269409, 0.9936213493347168, 0.9983971118927002, 0.998561441898346, 0.9981914758682251, 0.9507882595062256, 0.9980371594429016, 0.9897134900093079, 0.9940390586853027, 0.9948262572288513, 0.9971832036972046, 0.989986002445221, 0.9938272833824158, 0.9972805380821228, 0.9871159195899963, 0.01142976339906454, 0.9151706695556641, 0.07876468449831009, 0.9912431240081787, 0.9982213973999023, 0.86397385597229, 0.9923449158668518, 0.17603015899658203, 0.8192172646522522, 0.995900571346283, 0.9945318102836609, 0.9639765620231628, 0.9818241000175476, 0.9905853271484375, 0.9786626100540161, 0.9906128644943237, 0.9904398918151855, 0.9917842149734497, 0.9950945973396301, 0.9990320801734924, 0.46340811252593994, 0.043016787618398666, 0.4907824397087097, 0.9989432692527771, 0.9911993145942688, 0.9944226145744324, 0.9985526204109192, 0.9959392547607422, 0.9960936903953552, 0.9992648363113403, 0.9322149157524109, 0.9981231093406677, 0.9973095059394836, 0.9934637546539307, 0.9965420961380005, 0.997233510017395, 0.9950979948043823, 0.9990197420120239, 0.9599266052246094, 0.9636415839195251, 0.9972304701805115, 0.9852510690689087, 0.9447568655014038, 0.9947813749313354, 0.9875429272651672, 0.9954700469970703, 0.9876121878623962, 0.9856341481208801, 0.9829468131065369, 0.9836021065711975, 0.9970192313194275, 0.9989903569221497, 0.9977380633354187, 0.994591474533081, 0.8622240424156189, 0.9985469579696655, 0.9973064064979553, 0.9927887916564941, 0.9947689175605774, 0.987764835357666, 0.9983013272285461, 0.9953393340110779, 0.9884181022644043, 0.9891303181648254, 0.9841751456260681, 0.995076596736908, 0.9585980772972107, 0.9492338299751282, 0.9944241046905518, 0.9971851706504822, 0.9819996356964111, 0.979060709476471, 0.9803008437156677, 0.9984534978866577, 0.9975984692573547, 0.9898972511291504, 0.9985383152961731, 0.9906039237976074, 0.9945813417434692, 0.9959493279457092, 0.9988890290260315, 0.9909359812736511, 0.9911961555480957, 0.9928333163261414, 0.9919822216033936, 0.9947529435157776, 0.9805696606636047, 0.9965204000473022, 0.9951754808425903, 0.9781630635261536, 0.9974228739738464, 0.9928016662597656, 0.9985164999961853, 0.9590756297111511, 0.9294214248657227, 0.9969145059585571, 0.668586790561676, 0.24090780317783356, 0.08932536095380783, 0.9985740184783936, 0.9939271807670593, 0.9990483522415161, 0.9970095157623291, 0.9825937747955322, 0.9932956695556641, 0.994501531124115, 0.9800262451171875, 0.9988152384757996, 0.9964753985404968, 0.9982722401618958, 0.9491737484931946, 0.050110362470149994, 0.9979698061943054, 0.9973903298377991, 0.9932966232299805, 0.9641374349594116, 0.9976581335067749, 0.11304233968257904, 0.8858828544616699, 0.9989829063415527, 0.9848420023918152, 0.9956005811691284, 0.9979438185691833, 0.9977542757987976, 0.9982296824455261, 0.9962550401687622, 0.9727135896682739, 0.9930273294448853, 0.9954091906547546, 0.986489474773407, 0.9950529336929321, 0.9826821684837341, 0.99876469373703, 0.9951756596565247, 0.9829236268997192, 0.9962736368179321, 0.9964855313301086, 0.9955020546913147, 0.9990004897117615, 0.9968293905258179, 0.9884670972824097, 0.9984650015830994, 0.9930078387260437, 0.9844489693641663, 0.9996623992919922, 0.9885357022285461, 0.9991703629493713, 0.9950597882270813, 0.933367908000946, 0.9932166337966919, 0.9984322190284729, 0.9913024306297302, 0.9906931519508362, 0.9906781911849976, 0.9979872107505798, 0.9950437545776367, 0.9913678765296936, 0.9277297258377075, 0.07197616994380951, 0.09034279733896255, 0.9058054089546204, 0.9949235320091248, 0.9991207718849182, 0.9966186881065369, 0.9765530228614807, 0.9900199770927429, 0.9974543452262878, 0.9976666569709778, 0.9979504346847534, 0.9989092350006104, 0.9985809922218323, 0.9968631863594055, 0.9964269995689392, 0.993919849395752, 0.991333544254303, 0.9810794591903687, 0.9945670366287231, 0.9986254572868347, 0.9828786253929138, 0.9891262054443359, 0.9980863332748413, 0.9937764406204224, 0.9990025758743286, 0.9951175451278687, 0.9969213008880615, 0.9937103986740112, 0.9668132066726685, 0.997641921043396, 0.9989857077598572, 0.10405855625867844, 0.8955208659172058, 0.15990009903907776, 0.8375095725059509, 0.9977329969406128, 0.9830063581466675, 0.9196786880493164, 0.9992972612380981, 0.999148428440094, 0.9788690209388733, 0.9854581356048584, 0.996670126914978, 0.9995725154876709, 0.9183678030967712, 0.9955562949180603, 0.9924800992012024, 0.8519007563591003, 0.1470484584569931, 0.9986582398414612, 0.9973023533821106, 0.9856083989143372, 0.9959375858306885, 0.993283748626709, 0.9934867024421692, 0.9923598170280457, 0.9979531764984131, 0.9990773797035217, 0.9798672199249268, 0.7416669726371765, 0.2543734014034271, 0.9925756454467773, 0.983597993850708, 0.9925657510757446, 0.8914881348609924, 0.9989496469497681, 0.997969388961792, 0.8590558767318726, 0.13890542089939117, 0.9753217697143555, 0.9958049058914185, 0.687673807144165, 0.9680194854736328, 0.9921901226043701, 0.9956583380699158, 0.9981275200843811, 0.9199010729789734, 0.9982129335403442, 0.9950836896896362, 0.9982730746269226, 0.9921618700027466, 0.947847306728363, 0.9865754842758179, 0.9771913886070251, 0.9977519512176514, 0.9584460258483887, 0.9975292086601257, 0.9582961201667786, 0.9960024356842041, 0.9946805834770203, 0.9955894351005554, 0.997244656085968, 0.9506129026412964, 0.9992388486862183, 0.9930793046951294, 0.9937628507614136, 0.9984043836593628, 0.9779967069625854, 0.9694639444351196, 0.9985905885696411, 0.9959642291069031, 0.9466466903686523, 0.9976383447647095, 0.9979608654975891, 0.9856634140014648, 0.8671631813049316, 0.9938746094703674, 0.9978748559951782, 0.9966602921485901, 0.9987353086471558, 0.9942313432693481, 0.9916176795959473, 0.970022976398468, 0.9986163377761841, 0.9926454424858093, 0.9994083642959595, 0.9937906265258789, 0.9826168417930603, 0.05495806038379669, 0.9437625408172607, 0.99689120054245, 0.9952099323272705, 0.9876700639724731, 0.9956465363502502, 0.9988417625427246, 0.9980980753898621, 0.9958913326263428, 0.9980391263961792, 0.9982540011405945, 0.9983215928077698, 0.9959803223609924, 0.9970898628234863, 0.9588436484336853, 0.9929571151733398, 0.9960655570030212, 0.9960876107215881, 0.9884855151176453, 0.9860736131668091, 0.9959397912025452, 0.9909641742706299, 0.9949063658714294, 0.9964278936386108, 0.9962233304977417, 0.9972320795059204, 0.8847561478614807, 0.998698353767395, 0.9771563410758972, 0.9955592155456543, 0.9969342947006226, 0.9563093185424805, 0.9900833964347839, 0.9360946416854858, 0.9896786212921143, 0.9988781809806824, 0.9903655648231506, 0.9979103207588196, 0.9801207780838013, 0.9980064630508423, 0.9958239197731018, 0.9766396284103394, 0.99103844165802, 0.9810539484024048, 0.9985513687133789, 0.9916744828224182, 0.9921875596046448, 0.9971935749053955, 0.9961167573928833, 0.9980462789535522, 0.49025487899780273, 0.49968287348747253, 0.9924057126045227, 0.9809751510620117, 0.9974360466003418, 0.9992879033088684, 0.9984782338142395, 0.9965786337852478, 0.9995434284210205, 0.994805634021759, 0.9931395649909973, 0.9968909621238708, 0.9884526133537292, 0.9987360835075378, 0.9975695013999939, 0.9771875739097595, 0.949405312538147, 0.04747026413679123, 0.9932165145874023, 0.8559816479682922, 0.9831866025924683, 0.9986984133720398, 0.9976970553398132, 0.8583328127861023, 0.1380981057882309, 0.989741861820221, 0.9953107237815857, 0.997880220413208, 0.9973926544189453, 0.9932641983032227, 0.16134926676750183, 0.8143571615219116, 0.02131028100848198, 0.9865778088569641, 0.9941434264183044, 0.9890549182891846, 0.9940564632415771, 0.9873033165931702, 0.9983776211738586, 0.9992635846138, 0.9916307330131531, 0.9966931343078613, 0.03898843750357628, 0.9565163254737854, 0.9958353638648987, 0.9973298907279968, 0.9829432964324951, 0.900922954082489, 0.09731895476579666, 0.9991115927696228, 0.9800949096679688, 0.9808551669120789, 0.9853661060333252, 0.7769052982330322, 0.11296837031841278, 0.10702266544103622, 0.9962380528450012, 0.9934885501861572, 0.9888747930526733, 0.984021008014679, 0.9962458610534668, 0.10247063636779785, 0.896073043346405, 0.9994438290596008, 0.9963257908821106, 0.9976287484169006, 0.9951027035713196, 0.9951907992362976, 0.9950650334358215, 0.9985877275466919, 0.9582790732383728, 0.9938454031944275, 0.9980723857879639, 0.9927286505699158, 0.9833630919456482, 0.9527607560157776, 0.046406835317611694, 0.9981576204299927, 0.23008133471012115, 0.7688611745834351, 0.9912264347076416, 0.9969533085823059, 0.9686605334281921, 0.028944041579961777, 0.9885465502738953, 0.9958277344703674, 0.9526728987693787, 0.9976372718811035, 0.9978212714195251, 0.9648150205612183, 0.9984628558158875, 0.9962806105613708, 0.9828518629074097, 0.98853999376297, 0.9971074461936951, 0.997387170791626, 0.9960915446281433, 0.9833669066429138, 0.9990057349205017, 0.9976357221603394, 0.24310557544231415, 0.7540993094444275, 0.9982167482376099, 0.05895557627081871, 0.9362145662307739, 0.989659309387207, 0.9849766492843628, 0.977528989315033, 0.9609342813491821, 0.9963883757591248, 0.9954076409339905, 0.9977707266807556, 0.9893258213996887, 0.9064432382583618, 0.9980960488319397, 0.973405659198761, 0.9989228248596191, 0.9725387692451477, 0.9985972046852112, 0.9514959454536438, 0.9956281185150146, 0.9957130551338196, 0.9914003610610962, 0.9990174174308777, 0.9966071844100952, 0.9197051525115967, 0.9911350011825562, 0.9967253804206848, 0.9844080209732056, 0.9973010420799255, 0.995132327079773, 0.9868847131729126, 0.9936973452568054, 0.9655212163925171, 0.9975352883338928, 0.9973946213722229, 0.9967077374458313, 0.9929320216178894, 0.9643728137016296, 0.9779627323150635, 0.9955586194992065, 0.9934463500976562, 0.9862857460975647, 0.9899998903274536, 0.9931280016899109, 0.056389741599559784, 0.9387233853340149, 0.9984611868858337, 0.980588436126709, 0.8191714882850647, 0.999141275882721, 0.9882830381393433, 0.9982045888900757, 0.9984645843505859, 0.9732642769813538, 0.9990217089653015, 0.9787114262580872, 0.989200234413147, 0.9982587099075317, 0.9878185987472534, 0.9880282878875732, 0.9989458322525024, 0.9967942237854004, 0.9990813732147217, 0.9959717988967896, 0.9476748704910278, 0.9712636470794678, 0.027371222153306007, 0.9982096552848816, 0.9955392479896545, 0.9959158301353455, 0.99753338098526, 0.9382039308547974, 0.99456787109375, 0.9929885268211365, 0.9404870271682739, 0.9902811646461487, 0.9516693949699402, 0.976901650428772, 0.9932081699371338, 0.9934458136558533, 0.9902275204658508, 0.9959250092506409, 0.9902923107147217, 0.9979279041290283, 0.9941244721412659, 0.9745639562606812, 0.9605492353439331, 0.985878586769104, 0.9997922778129578, 0.9961304068565369, 0.9983214139938354, 0.9956061840057373, 0.995379626750946, 0.9978878498077393, 0.9870721101760864, 0.9996365904808044, 0.9957695007324219, 0.9989718198776245, 0.9687634706497192, 0.9950855374336243, 0.9983596801757812, 0.4334496259689331, 0.5582305788993835, 0.9962290525436401, 0.9981966018676758, 0.9766920804977417, 0.9833236932754517, 0.9911303520202637, 0.9894301295280457, 0.9819402694702148, 0.9960573315620422, 0.995579719543457, 0.9188088178634644, 0.9949056506156921, 0.9919176697731018, 0.9980798959732056, 0.9942394495010376, 0.9977409243583679, 0.992802619934082, 0.9987389445304871, 0.911201536655426, 0.9971270561218262, 0.996437668800354, 0.9958098530769348, 0.9923346638679504, 0.994423508644104, 0.9953892230987549, 0.9739752411842346, 0.9869202375411987, 0.9889712929725647, 0.9732990264892578, 0.02438327483832836, 0.995730459690094, 0.9977397322654724, 0.9874085783958435, 0.9926578402519226, 0.9906985759735107, 0.9979156255722046, 0.9900143146514893, 0.9828240275382996, 0.9724252820014954, 0.0016033463180065155, 0.9956780672073364, 0.993168830871582, 0.9914589524269104, 0.9977277517318726, 0.9901902675628662, 0.9934629201889038, 0.9045106172561646, 0.9993017911911011, 0.9986462593078613, 0.996905505657196, 0.9909374117851257, 0.9980129599571228, 0.0016989520518109202, 0.9567691683769226], \"Term\": [\"abs\", \"acceleration\", \"accept\", \"access\", \"accessory\", \"accident\", \"accomplish\", \"accuracy\", \"action\", \"address\", \"advantage\", \"advice\", \"age\", \"agency\", \"agent\", \"allocate\", \"ammunition\", \"amount\", \"amplify\", \"analysis\", \"angle\", \"answer\", \"appear\", \"application\", \"appoint\", \"appreciate\", \"approach\", \"arab\", \"archive\", \"argument\", \"arm\", \"armenian\", \"assumption\", \"atheism\", \"atheist\", \"attack\", \"attention\", \"author\", \"ax\", \"band\", \"bar\", \"batter\", \"battery\", \"be\", \"belief\", \"believe\", \"bell_lab\", \"bike\", \"birth\", \"blank\", \"block\", \"blood\", \"blow\", \"blue\", \"board\", \"body\", \"body\", \"bother\", \"bother\", \"bottom\", \"brain\", \"bridge\", \"brother\", \"building\", \"building\", \"burn\", \"buy\", \"cabin\", \"cage\", \"call\", \"camera\", \"campaign\", \"canadian\", \"cap\", \"capacity\", \"card\", \"carry\", \"carry\", \"carry\", \"case\", \"category\", \"cd\", \"character\", \"charge\", \"check\", \"child\", \"chris_behanna\", \"christian\", \"church\", \"circuit\", \"citizen\", \"city\", \"civilian\", \"claim\", \"classic\", \"close\", \"code\", \"combine\", \"combined\", \"communication\", \"competition\", \"compile\", \"component\", \"comprehensive\", \"compress\", \"comprise\", \"compute\", \"computer\", \"concern\", \"concerned\", \"concert\", \"conclusion\", \"condition\", \"conference\", \"configuration\", \"conservative\", \"consider\", \"consideration\", \"consist\", \"construction\", \"controller\", \"convert\", \"convex\", \"cooling_tower\", \"cop\", \"copy\", \"correction\", \"creator\", \"creature\", \"crime\", \"criminal\", \"crypto\", \"current\", \"cylinder\", \"damage\", \"dangerous\", \"datum\", \"daughter\", \"dealer\", \"death\", \"decent\", \"default\", \"defensive\", \"define\", \"degree\", \"delay\", \"delete\", \"depend\", \"design\", \"designer\", \"destination\", \"destroy\", \"develop\", \"develop\", \"develop\", \"device\", \"devil\", \"difference\", \"digital\", \"dirt\", \"disable\", \"disclaimer\", \"discount\", \"discussion\", \"disease\", \"disk\", \"distribution\", \"distribution\", \"division\", \"doctor\", \"dog\", \"domestic\", \"draw\", \"drive\", \"drive\", \"driver\", \"driving\", \"drop\", \"drug\", \"earth\", \"effect\", \"effective\", \"electric\", \"electrical\", \"electronic\", \"emphasis\", \"employer\", \"encounter\", \"encryption\", \"energy\", \"engage\", \"engine\", \"engineer\", \"ensure\", \"entry\", \"environment\", \"equal\", \"error\", \"essentially\", \"european\", \"evidence\", \"exception\", \"exist\", \"expansion\", \"expel\", \"expire\", \"explain\", \"explanation\", \"export\", \"extend\", \"external\", \"extra\", \"facility\", \"fact\", \"fact\", \"factor\", \"factor\", \"factory\", \"faith\", \"fan\", \"farmer\", \"fault\", \"feature\", \"field\", \"figure\", \"file\", \"fire\", \"firearm\", \"fit\", \"floor\", \"floppy\", \"flyer\", \"foot\", \"format\", \"formation\", \"fre\", \"function\", \"gain\", \"game\", \"gas\", \"generate\", \"german\", \"glass\", \"goal\", \"god\", \"government\", \"government\", \"grant\", \"grant\", \"graphic\", \"gravity\", \"grief\", \"group\", \"gun\", \"hand\", \"handgun\", \"hardware\", \"have\", \"heck\", \"helmet\", \"hide\", \"history\", \"history\", \"hold\", \"hole\", \"honor\", \"house\", \"human_being\", \"ice\", \"icon\", \"ill\", \"image\", \"imagination\", \"impact\", \"impact\", \"implementation\", \"import\", \"impossible\", \"impulse\", \"include\", \"increase\", \"individual\", \"individual\", \"industrial\", \"industry\", \"inferior\", \"infinite\", \"inform\", \"inhabitant\", \"input\", \"inquiry\", \"instal\", \"insurance\", \"interest\", \"interface\", \"intersection\", \"investment\", \"investors_packet\", \"israeli\", \"isreal\", \"jewish\", \"joint\", \"keep\", \"keyword\", \"laboratory\", \"large\", \"lastly\", \"law\", \"law_enforcement\", \"lawyer\", \"lead\", \"leak\", \"leather\", \"let\", \"letter\", \"liability\", \"license\", \"limit\", \"limited\", \"liter\", \"load\", \"logic\", \"longer\", \"lose\", \"luck\", \"lunar\", \"luxury\", \"machine\", \"magazine\", \"mail\", \"maintain\", \"maintenance\", \"make\", \"make\", \"manager\", \"manual\", \"mass\", \"material\", \"matter\", \"mean\", \"medical\", \"member\", \"memory\", \"method\", \"mile\", \"military\", \"milk\", \"mind\", \"mission\", \"mode\", \"modem\", \"moon\", \"motif\", \"motor\", \"motto\", \"mount\", \"mouse\", \"move\", \"ms_do\", \"murder\", \"mystery\", \"name\", \"nature\", \"nearby\", \"neighbor\", \"netnew\", \"netter\", \"network\", \"new\", \"nntp_posting\", \"nonsense\", \"normal\", \"northern\", \"nose\", \"nuclear\", \"nuclear_weapon\", \"number\", \"object\", \"observation\", \"obtain\", \"occupy\", \"offer\", \"officer\", \"officer\", \"oil\", \"openwindow\", \"operation\", \"opinion\", \"option\", \"orbit\", \"organization\", \"output\", \"own\", \"owner\", \"ozone\", \"package\", \"paper\", \"parking\", \"part\", \"part\", \"pass\", \"passive\", \"path\", \"patient\", \"pc\", \"peace\", \"peace\", \"percentage\", \"perform\", \"performance\", \"period\", \"person\", \"personal\", \"personal\", \"personal\", \"pick\", \"piece\", \"plain\", \"planet\", \"planetary\", \"player\", \"point\", \"pointer\", \"police\", \"poor\", \"poor\", \"population\", \"port\", \"portable\", \"post\", \"post\", \"power\", \"prefer\", \"preferably\", \"present\", \"prevent\", \"prevent\", \"prevent\", \"printer\", \"privacy\", \"prize\", \"probability\", \"procedure\", \"process\", \"process\", \"program\", \"proof\", \"proper\", \"property\", \"proposal\", \"protection\", \"prove\", \"provision\", \"publication\", \"publish\", \"pull\", \"pure\", \"purpose\", \"purpose\", \"put\", \"question\", \"question\", \"radiation\", \"radio\", \"range\", \"range\", \"rate\", \"rational\", \"reactor\", \"read\", \"reality\", \"rear\", \"reason\", \"reasonable\", \"receiver\", \"recommendation\", \"reduce\", \"reference\", \"release\", \"reliable\", \"religion\", \"religious\", \"research\", \"research\", \"response\", \"responsible\", \"responsible\", \"restriction\", \"result\", \"retire\", \"reward\", \"ride\", \"rider\", \"right\", \"ring\", \"rip\", \"risk\", \"river\", \"rule\", \"rutger\", \"s\", \"safe\", \"sample\", \"satellite\", \"saturn\", \"science\", \"scripture\", \"scum\", \"second\", \"secret\", \"secular\", \"security\", \"seek\", \"segment\", \"send\", \"separation\", \"serial\", \"server\", \"session\", \"set\", \"shaft\", \"sheet\", \"shoot\", \"show\", \"sight\", \"sign\", \"signal\", \"sit\", \"sit\", \"situation\", \"sky\", \"slide\", \"software\", \"solar\", \"soldier\", \"solution\", \"soviet_union\", \"space\", \"space_shuttle\", \"spacecraft\", \"speak\", \"speaker\", \"specification\", \"speed\", \"sport\", \"standard\", \"start\", \"starter\", \"state\", \"state\", \"statement\", \"statistic\", \"status\", \"steal\", \"steam\", \"stick\", \"store\", \"stratus_computer\", \"stream\", \"style\", \"substantial\", \"success\", \"suffer\", \"sufficient\", \"suggest\", \"suitable\", \"summary\", \"summer\", \"surround\", \"suspect\", \"switch\", \"system\", \"table\", \"talk\", \"tank\", \"tap\", \"tape\", \"tavare\", \"team\", \"technical\", \"technology\", \"television\", \"telnet\", \"term\", \"territory\", \"territory\", \"terrorism\", \"text\", \"thread\", \"timing\", \"tire\", \"toll\", \"ton\", \"tool\", \"topic\", \"torque\", \"town\", \"trace\", \"transfer\", \"treatment\", \"trial\", \"troop\", \"truth\", \"turbo\", \"turk\", \"turkish\", \"united_state\", \"unknown\", \"usual\", \"utility\", \"valve\", \"variation\", \"variety\", \"vehicle\", \"vehicle\", \"view\", \"village\", \"violation\", \"voice\", \"voltage\", \"volume\", \"walk\", \"wall\", \"wallpaper\", \"war\", \"war\", \"warrant\", \"wave\", \"weapon\", \"wear\", \"wife\", \"wild_corn\", \"will\", \"window\", \"wing\", \"workstation\", \"would\", \"would\", \"young\"]}, \"R\": 30, \"lambda.step\": 0.01, \"plot.opts\": {\"xlab\": \"PC1\", \"ylab\": \"PC2\"}, \"topic.order\": [11, 19, 5, 6, 14, 13, 20, 15, 18, 2, 1, 12, 16, 3, 9, 4, 10, 7, 8, 17]};\n",
       "\n",
       "function LDAvis_load_lib(url, callback){\n",
       "  var s = document.createElement('script');\n",
       "  s.src = url;\n",
       "  s.async = true;\n",
       "  s.onreadystatechange = s.onload = callback;\n",
       "  s.onerror = function(){console.warn(\"failed to load library \" + url);};\n",
       "  document.getElementsByTagName(\"head\")[0].appendChild(s);\n",
       "}\n",
       "\n",
       "if(typeof(LDAvis) !== \"undefined\"){\n",
       "   // already loaded: just create the visualization\n",
       "   !function(LDAvis){\n",
       "       new LDAvis(\"#\" + \"ldavis_el1445223794120693204991821632\", ldavis_el1445223794120693204991821632_data);\n",
       "   }(LDAvis);\n",
       "}else if(typeof define === \"function\" && define.amd){\n",
       "   // require.js is available: use it to load d3/LDAvis\n",
       "   require.config({paths: {d3: \"https://cdnjs.cloudflare.com/ajax/libs/d3/3.5.5/d3.min\"}});\n",
       "   require([\"d3\"], function(d3){\n",
       "      window.d3 = d3;\n",
       "      LDAvis_load_lib(\"https://cdn.rawgit.com/bmabey/pyLDAvis/files/ldavis.v1.0.0.js\", function(){\n",
       "        new LDAvis(\"#\" + \"ldavis_el1445223794120693204991821632\", ldavis_el1445223794120693204991821632_data);\n",
       "      });\n",
       "    });\n",
       "}else{\n",
       "    // require.js not available: dynamically load d3 & LDAvis\n",
       "    LDAvis_load_lib(\"https://cdnjs.cloudflare.com/ajax/libs/d3/3.5.5/d3.min.js\", function(){\n",
       "         LDAvis_load_lib(\"https://cdn.rawgit.com/bmabey/pyLDAvis/files/ldavis.v1.0.0.js\", function(){\n",
       "                 new LDAvis(\"#\" + \"ldavis_el1445223794120693204991821632\", ldavis_el1445223794120693204991821632_data);\n",
       "            })\n",
       "         });\n",
       "}\n",
       "</script>"
      ],
      "text/plain": [
       "PreparedData(topic_coordinates=              x         y  topics  cluster       Freq\n",
       "topic                                                \n",
       "10    -0.309460 -0.204505       1        1  18.092201\n",
       "18    -0.272278  0.369891       2        1  17.569237\n",
       "4     -0.213549 -0.112406       3        1  11.403429\n",
       "5     -0.067347  0.044302       4        1   6.355700\n",
       "13    -0.107107 -0.148558       5        1   6.354414\n",
       "12    -0.046149  0.031135       6        1   5.037771\n",
       "19    -0.036012 -0.008450       7        1   4.907513\n",
       "14     0.036443  0.003042       8        1   4.347093\n",
       "17     0.002668 -0.010296       9        1   3.920696\n",
       "1      0.045065  0.008796      10        1   3.391818\n",
       "0      0.030883  0.018697      11        1   3.194767\n",
       "11     0.057641  0.007927      12        1   2.971924\n",
       "15     0.068231 -0.001563      13        1   2.308695\n",
       "2      0.076706  0.007051      14        1   2.155948\n",
       "8      0.085307  0.006075      15        1   2.133689\n",
       "3      0.078483 -0.012479      16        1   2.025845\n",
       "9      0.130523  0.001437      17        1   1.306896\n",
       "6      0.132932  0.001219      18        1   1.167998\n",
       "7      0.147008 -0.000050      19        1   0.959085\n",
       "16     0.160013 -0.001263      20        1   0.395281, topic_info=     Category         Freq        Term        Total  loglift  logprob\n",
       "2685  Default  6401.000000          ax  6401.000000  30.0000  30.0000\n",
       "71    Default  6030.000000      system  6030.000000  29.0000  29.0000\n",
       "101   Default  2267.000000  government  2267.000000  28.0000  28.0000\n",
       "463   Default  2202.000000        will  2202.000000  27.0000  27.0000\n",
       "8     Default  1855.000000        card  1855.000000  26.0000  26.0000\n",
       "...       ...          ...         ...          ...      ...      ...\n",
       "2832  Topic20     0.036297    lebanese     1.641603   1.7216 -10.8610\n",
       "6365  Topic20     0.036296  consistent     1.641528   1.7217 -10.8611\n",
       "5895  Topic20     0.036296   terrorist     1.641592   1.7216 -10.8611\n",
       "2472  Topic20     0.036296      chance     1.641529   1.7216 -10.8611\n",
       "6317  Topic20     0.036295    shipping     1.641415   1.7217 -10.8611\n",
       "\n",
       "[672 rows x 6 columns], token_table=      Topic      Freq          Term\n",
       "term                               \n",
       "464      14  0.736795           abs\n",
       "465      14  0.956623  acceleration\n",
       "710       6  0.996300        accept\n",
       "24        8  0.999091        access\n",
       "379      17  0.954695     accessory\n",
       "...     ...       ...           ...\n",
       "377       1  0.996906          wing\n",
       "663       7  0.990937   workstation\n",
       "63        2  0.998013         would\n",
       "63        8  0.001699         would\n",
       "1098     20  0.956769         young\n",
       "\n",
       "[639 rows x 3 columns], R=30, lambda_step=0.01, plot_opts={'xlab': 'PC1', 'ylab': 'PC2'}, topic_order=[11, 19, 5, 6, 14, 13, 20, 15, 18, 2, 1, 12, 16, 3, 9, 4, 10, 7, 8, 17])"
      ]
     },
     "execution_count": 18,
     "metadata": {},
     "output_type": "execute_result"
    }
   ],
   "source": [
    "vis"
   ]
  },
  {
   "cell_type": "code",
   "execution_count": 19,
   "metadata": {},
   "outputs": [],
   "source": [
    "pyLDAvis.save_html(vis, 'lda.html')"
   ]
  }
 ],
 "metadata": {
  "kernelspec": {
   "display_name": "Python 3",
   "language": "python",
   "name": "python3"
  },
  "language_info": {
   "codemirror_mode": {
    "name": "ipython",
    "version": 3
   },
   "file_extension": ".py",
   "mimetype": "text/x-python",
   "name": "python",
   "nbconvert_exporter": "python",
   "pygments_lexer": "ipython3",
   "version": "3.7.7"
  }
 },
 "nbformat": 4,
 "nbformat_minor": 4
}
