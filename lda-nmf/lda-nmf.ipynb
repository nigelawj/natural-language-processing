{
 "cells": [
  {
   "cell_type": "markdown",
   "metadata": {},
   "source": [
    "### LDA-NMF via sklearn"
   ]
  },
  {
   "cell_type": "code",
   "execution_count": 1,
   "metadata": {},
   "outputs": [],
   "source": [
    "from sklearn.feature_extraction.text import TfidfVectorizer, CountVectorizer\n",
    "from sklearn.datasets import fetch_20newsgroups\n",
    "from sklearn.decomposition import NMF, LatentDirichletAllocation\n",
    "\n",
    "import pandas as pd"
   ]
  },
  {
   "cell_type": "code",
   "execution_count": 2,
   "metadata": {},
   "outputs": [],
   "source": [
    "dataset = fetch_20newsgroups(shuffle=True, random_state=1, remove=('headers', 'footers', 'quotes'))\n",
    "documents = dataset.data"
   ]
  },
  {
   "cell_type": "code",
   "execution_count": 3,
   "metadata": {},
   "outputs": [],
   "source": [
    "no_features = 1000\n",
    "\n",
    "# NMF is able to use tf-idf\n",
    "tfidf_vectorizer = TfidfVectorizer(max_df=0.95, min_df=2, max_features=no_features, stop_words='english')\n",
    "tfidf = tfidf_vectorizer.fit_transform(documents)\n",
    "tfidf_feature_names = tfidf_vectorizer.get_feature_names()\n",
    "\n",
    "# LDA can only use raw term counts for LDA because it is a probabilistic graphical model\n",
    "tf_vectorizer = CountVectorizer(max_df=0.95, min_df=2, max_features=no_features, stop_words='english')\n",
    "tf = tf_vectorizer.fit_transform(documents)\n",
    "tf_feature_names = tf_vectorizer.get_feature_names()"
   ]
  },
  {
   "cell_type": "code",
   "execution_count": 4,
   "metadata": {},
   "outputs": [],
   "source": [
    "no_topics = 20\n",
    "\n",
    "# Run NMF\n",
    "nmf = NMF(n_components=no_topics, random_state=1, alpha=.1, l1_ratio=.5, init='nndsvd').fit(tfidf)\n",
    "\n",
    "# Run LDA\n",
    "lda = LatentDirichletAllocation(n_components=no_topics, max_iter=5, learning_method='online', learning_offset=50.,random_state=0).fit(tf)"
   ]
  },
  {
   "cell_type": "code",
   "execution_count": 5,
   "metadata": {},
   "outputs": [
    {
     "output_type": "execute_result",
     "data": {
      "text/plain": "           term0     term1  term2    term3           term4   term5    term6  \\\ntopic_id                                                                      \n0         people       gun  state  control           right    guns    crime   \n1           time  question   book    years             did    like      don   \n2             mr      line  rules  science  stephanopoulos   title  current   \n3            key      chip   keys  clipper      encryption  number      des   \n4            edu       com     cs       vs              w7      cx     mail   \n\n              term7   term8   term9  ...    term20    term21      term22  \\\ntopic_id                             ...                                   \n0            states     law  police  ...      anti      make  government   \n1             space  answer    just  ...  actually     earth        read   \n2            define     int     yes  ...      know  original    question   \n3         algorithm     use     bit  ...     block      unit       using   \n4                uk      17    send  ...        ma   article         org   \n\n            term23    term24  term25      term26    term27      term28 term29  \ntopic_id                                                                       \n0             rate  military  public        case    person       carry  power  \n1             make      post     ask      theory    second       books  large  \n2             term     right      ed  discussion     write         job   post  \n3         security        80  secure          dc   product  technology   data  \n4              jim   picture      27        john  internet         apr     24  \n\n[5 rows x 30 columns]",
      "text/html": "<div>\n<style scoped>\n    .dataframe tbody tr th:only-of-type {\n        vertical-align: middle;\n    }\n\n    .dataframe tbody tr th {\n        vertical-align: top;\n    }\n\n    .dataframe thead th {\n        text-align: right;\n    }\n</style>\n<table border=\"1\" class=\"dataframe\">\n  <thead>\n    <tr style=\"text-align: right;\">\n      <th></th>\n      <th>term0</th>\n      <th>term1</th>\n      <th>term2</th>\n      <th>term3</th>\n      <th>term4</th>\n      <th>term5</th>\n      <th>term6</th>\n      <th>term7</th>\n      <th>term8</th>\n      <th>term9</th>\n      <th>...</th>\n      <th>term20</th>\n      <th>term21</th>\n      <th>term22</th>\n      <th>term23</th>\n      <th>term24</th>\n      <th>term25</th>\n      <th>term26</th>\n      <th>term27</th>\n      <th>term28</th>\n      <th>term29</th>\n    </tr>\n    <tr>\n      <th>topic_id</th>\n      <th></th>\n      <th></th>\n      <th></th>\n      <th></th>\n      <th></th>\n      <th></th>\n      <th></th>\n      <th></th>\n      <th></th>\n      <th></th>\n      <th></th>\n      <th></th>\n      <th></th>\n      <th></th>\n      <th></th>\n      <th></th>\n      <th></th>\n      <th></th>\n      <th></th>\n      <th></th>\n      <th></th>\n    </tr>\n  </thead>\n  <tbody>\n    <tr>\n      <th>0</th>\n      <td>people</td>\n      <td>gun</td>\n      <td>state</td>\n      <td>control</td>\n      <td>right</td>\n      <td>guns</td>\n      <td>crime</td>\n      <td>states</td>\n      <td>law</td>\n      <td>police</td>\n      <td>...</td>\n      <td>anti</td>\n      <td>make</td>\n      <td>government</td>\n      <td>rate</td>\n      <td>military</td>\n      <td>public</td>\n      <td>case</td>\n      <td>person</td>\n      <td>carry</td>\n      <td>power</td>\n    </tr>\n    <tr>\n      <th>1</th>\n      <td>time</td>\n      <td>question</td>\n      <td>book</td>\n      <td>years</td>\n      <td>did</td>\n      <td>like</td>\n      <td>don</td>\n      <td>space</td>\n      <td>answer</td>\n      <td>just</td>\n      <td>...</td>\n      <td>actually</td>\n      <td>earth</td>\n      <td>read</td>\n      <td>make</td>\n      <td>post</td>\n      <td>ask</td>\n      <td>theory</td>\n      <td>second</td>\n      <td>books</td>\n      <td>large</td>\n    </tr>\n    <tr>\n      <th>2</th>\n      <td>mr</td>\n      <td>line</td>\n      <td>rules</td>\n      <td>science</td>\n      <td>stephanopoulos</td>\n      <td>title</td>\n      <td>current</td>\n      <td>define</td>\n      <td>int</td>\n      <td>yes</td>\n      <td>...</td>\n      <td>know</td>\n      <td>original</td>\n      <td>question</td>\n      <td>term</td>\n      <td>right</td>\n      <td>ed</td>\n      <td>discussion</td>\n      <td>write</td>\n      <td>job</td>\n      <td>post</td>\n    </tr>\n    <tr>\n      <th>3</th>\n      <td>key</td>\n      <td>chip</td>\n      <td>keys</td>\n      <td>clipper</td>\n      <td>encryption</td>\n      <td>number</td>\n      <td>des</td>\n      <td>algorithm</td>\n      <td>use</td>\n      <td>bit</td>\n      <td>...</td>\n      <td>block</td>\n      <td>unit</td>\n      <td>using</td>\n      <td>security</td>\n      <td>80</td>\n      <td>secure</td>\n      <td>dc</td>\n      <td>product</td>\n      <td>technology</td>\n      <td>data</td>\n    </tr>\n    <tr>\n      <th>4</th>\n      <td>edu</td>\n      <td>com</td>\n      <td>cs</td>\n      <td>vs</td>\n      <td>w7</td>\n      <td>cx</td>\n      <td>mail</td>\n      <td>uk</td>\n      <td>17</td>\n      <td>send</td>\n      <td>...</td>\n      <td>ma</td>\n      <td>article</td>\n      <td>org</td>\n      <td>jim</td>\n      <td>picture</td>\n      <td>27</td>\n      <td>john</td>\n      <td>internet</td>\n      <td>apr</td>\n      <td>24</td>\n    </tr>\n  </tbody>\n</table>\n<p>5 rows × 30 columns</p>\n</div>"
     },
     "metadata": {},
     "execution_count": 5
    }
   ],
   "source": [
    "no_top_words = 30\n",
    "\n",
    "# LDA\n",
    "# Populate terms and columns for doc2vec input\n",
    "lda_columns = []\n",
    "for i in range(0, no_top_words):\n",
    "    lda_columns.append('term{}'.format(i))\n",
    "\n",
    "lda_terms = []\n",
    "for topic_idx, topic in enumerate(lda.components_):\n",
    "    lda_terms.append([tf_feature_names[i] for i in topic.argsort()[:-no_top_words - 1:-1]])\n",
    "\n",
    "lda_df = pd.DataFrame(data=lda_terms, columns=lda_columns)\n",
    "lda_df['topic_id'] = [i for i in range(0, 20)]\n",
    "lda_df.set_index('topic_id', inplace=True)\n",
    "lda_df.head()"
   ]
  },
  {
   "cell_type": "code",
   "execution_count": 6,
   "metadata": {},
   "outputs": [
    {
     "output_type": "execute_result",
     "data": {
      "text/plain": "           term0    term1  term2   term3        term4    term5      term6  \\\ntopic_id                                                                    \n0         people     time  right     did         good     said        say   \n1         window  problem  using  server  application   screen    display   \n2            god    jesus  bible  christ        faith  believe  christian   \n3           game     team   year   games       season  players       play   \n4            new       00   sale      10        price    offer   shipping   \n\n               term7    term8       term9  ... term20     term21     term22  \\\ntopic_id                                   ...                                \n0               make      way  government  ...   want     things   question   \n1              motif  manager     running  ...    sun       line        try   \n2         christians      sin      church  ...    son  existence       word   \n3             hockey      win      league  ...   time      night       goal   \n4          condition       20          15  ...  email        old  excellent   \n\n           term23    term24 term25  term26 term27  term28   term29  \ntopic_id                                                            \n0            didn      true   case     law  thing     gun   better  \n1            time     works  tried  memory   mode  having      mit  \n2         atheism  religion   john    true   paul   exist     says  \n3           great       won    bad  series    did   years  chicago  \n4             100        16    000      40   best      14      box  \n\n[5 rows x 30 columns]",
      "text/html": "<div>\n<style scoped>\n    .dataframe tbody tr th:only-of-type {\n        vertical-align: middle;\n    }\n\n    .dataframe tbody tr th {\n        vertical-align: top;\n    }\n\n    .dataframe thead th {\n        text-align: right;\n    }\n</style>\n<table border=\"1\" class=\"dataframe\">\n  <thead>\n    <tr style=\"text-align: right;\">\n      <th></th>\n      <th>term0</th>\n      <th>term1</th>\n      <th>term2</th>\n      <th>term3</th>\n      <th>term4</th>\n      <th>term5</th>\n      <th>term6</th>\n      <th>term7</th>\n      <th>term8</th>\n      <th>term9</th>\n      <th>...</th>\n      <th>term20</th>\n      <th>term21</th>\n      <th>term22</th>\n      <th>term23</th>\n      <th>term24</th>\n      <th>term25</th>\n      <th>term26</th>\n      <th>term27</th>\n      <th>term28</th>\n      <th>term29</th>\n    </tr>\n    <tr>\n      <th>topic_id</th>\n      <th></th>\n      <th></th>\n      <th></th>\n      <th></th>\n      <th></th>\n      <th></th>\n      <th></th>\n      <th></th>\n      <th></th>\n      <th></th>\n      <th></th>\n      <th></th>\n      <th></th>\n      <th></th>\n      <th></th>\n      <th></th>\n      <th></th>\n      <th></th>\n      <th></th>\n      <th></th>\n      <th></th>\n    </tr>\n  </thead>\n  <tbody>\n    <tr>\n      <th>0</th>\n      <td>people</td>\n      <td>time</td>\n      <td>right</td>\n      <td>did</td>\n      <td>good</td>\n      <td>said</td>\n      <td>say</td>\n      <td>make</td>\n      <td>way</td>\n      <td>government</td>\n      <td>...</td>\n      <td>want</td>\n      <td>things</td>\n      <td>question</td>\n      <td>didn</td>\n      <td>true</td>\n      <td>case</td>\n      <td>law</td>\n      <td>thing</td>\n      <td>gun</td>\n      <td>better</td>\n    </tr>\n    <tr>\n      <th>1</th>\n      <td>window</td>\n      <td>problem</td>\n      <td>using</td>\n      <td>server</td>\n      <td>application</td>\n      <td>screen</td>\n      <td>display</td>\n      <td>motif</td>\n      <td>manager</td>\n      <td>running</td>\n      <td>...</td>\n      <td>sun</td>\n      <td>line</td>\n      <td>try</td>\n      <td>time</td>\n      <td>works</td>\n      <td>tried</td>\n      <td>memory</td>\n      <td>mode</td>\n      <td>having</td>\n      <td>mit</td>\n    </tr>\n    <tr>\n      <th>2</th>\n      <td>god</td>\n      <td>jesus</td>\n      <td>bible</td>\n      <td>christ</td>\n      <td>faith</td>\n      <td>believe</td>\n      <td>christian</td>\n      <td>christians</td>\n      <td>sin</td>\n      <td>church</td>\n      <td>...</td>\n      <td>son</td>\n      <td>existence</td>\n      <td>word</td>\n      <td>atheism</td>\n      <td>religion</td>\n      <td>john</td>\n      <td>true</td>\n      <td>paul</td>\n      <td>exist</td>\n      <td>says</td>\n    </tr>\n    <tr>\n      <th>3</th>\n      <td>game</td>\n      <td>team</td>\n      <td>year</td>\n      <td>games</td>\n      <td>season</td>\n      <td>players</td>\n      <td>play</td>\n      <td>hockey</td>\n      <td>win</td>\n      <td>league</td>\n      <td>...</td>\n      <td>time</td>\n      <td>night</td>\n      <td>goal</td>\n      <td>great</td>\n      <td>won</td>\n      <td>bad</td>\n      <td>series</td>\n      <td>did</td>\n      <td>years</td>\n      <td>chicago</td>\n    </tr>\n    <tr>\n      <th>4</th>\n      <td>new</td>\n      <td>00</td>\n      <td>sale</td>\n      <td>10</td>\n      <td>price</td>\n      <td>offer</td>\n      <td>shipping</td>\n      <td>condition</td>\n      <td>20</td>\n      <td>15</td>\n      <td>...</td>\n      <td>email</td>\n      <td>old</td>\n      <td>excellent</td>\n      <td>100</td>\n      <td>16</td>\n      <td>000</td>\n      <td>40</td>\n      <td>best</td>\n      <td>14</td>\n      <td>box</td>\n    </tr>\n  </tbody>\n</table>\n<p>5 rows × 30 columns</p>\n</div>"
     },
     "metadata": {},
     "execution_count": 6
    }
   ],
   "source": [
    "# NMF\n",
    "nmf_columns = []\n",
    "for i in range(0, no_top_words):\n",
    "    nmf_columns.append('term{}'.format(i))\n",
    "\n",
    "nmf_terms = []\n",
    "for topic_idx, topic in enumerate(nmf.components_):\n",
    "    nmf_terms.append([tfidf_feature_names[i] for i in topic.argsort()[:-no_top_words - 1:-1]])\n",
    "\n",
    "nmf_df = pd.DataFrame(data=nmf_terms, columns=nmf_columns)\n",
    "nmf_df['topic_id'] = [i for i in range(0, 20)]\n",
    "nmf_df.set_index('topic_id', inplace=True)\n",
    "nmf_df.head()"
   ]
  },
  {
   "cell_type": "code",
   "execution_count": 21,
   "metadata": {},
   "outputs": [],
   "source": [
    "lda_df.to_csv('lda-sklearn-output.csv')\n",
    "nmf_df.to_csv('nmf-sklearn-output.csv')"
   ]
  }
 ],
 "metadata": {
  "kernelspec": {
   "display_name": "Python 3.7.7 64-bit ('nlp': conda)",
   "language": "python",
   "name": "python37764bitnlpcondaea944c3062d341e499436aa24eded3e3"
  },
  "language_info": {
   "codemirror_mode": {
    "name": "ipython",
    "version": 3
   },
   "file_extension": ".py",
   "mimetype": "text/x-python",
   "name": "python",
   "nbconvert_exporter": "python",
   "pygments_lexer": "ipython3",
   "version": "3.7.7-final"
  }
 },
 "nbformat": 4,
 "nbformat_minor": 4
}